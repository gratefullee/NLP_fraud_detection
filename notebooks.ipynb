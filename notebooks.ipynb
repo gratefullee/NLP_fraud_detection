{
 "cells": [
  {
   "cell_type": "code",
   "execution_count": 1,
   "metadata": {},
   "outputs": [],
   "source": [
    "import pandas as pd \n",
    "import numpy as np\n",
    "from bs4 import BeautifulSoup\n",
    "from sklearn.feature_extraction.text import TfidfVectorizer\n",
    "from sklearn.model_selection import cross_val_score, train_test_split, GridSearchCV\n",
    "from sklearn.linear_model import LogisticRegression, LinearRegression\n",
    "from sklearn.datasets import make_classification\n",
    "from sklearn.ensemble import RandomForestClassifier\n",
    "from sklearn.metrics import accuracy_score, confusion_matrix, precision_score, recall_score, f1_score, roc_auc_score, roc_curve\n",
    "from sklearn.tree import export_graphviz\n",
    "from nltk.corpus import stopwords\n",
    "from nltk.tokenize import sent_tokenize, word_tokenize\n",
    "from nltk.stem import PorterStemmer\n",
    "import gensim\n",
    "from gensim import corpora, models, similarities, downloader\n",
    "from gensim.models.word2vec import Text8Corpus\n",
    "from gensim.models.phrases import Phrases\n",
    "from gensim.test.utils import datapath\n",
    "from gensim.corpora.dictionary import Dictionary\n",
    "from gensim.models import CoherenceModel\n",
    "from gensim.test.utils import common_texts\n",
    "from gensim.models.doc2vec import Doc2Vec, TaggedDocument\n",
    "from io import StringIO\n",
    "from html.parser import HTMLParser\n",
    "from imblearn.over_sampling import SMOTE\n",
    "import pyLDAvis.gensim\n",
    "import re\n",
    "from src.helper import *\n",
    "import matplotlib.pyplot as plt\n",
    "from collections import Counter\n",
    "import seaborn as sns"
   ]
  },
  {
   "cell_type": "code",
   "execution_count": 2,
   "metadata": {},
   "outputs": [],
   "source": [
    "df = pd.read_json('data/data.json')"
   ]
  },
  {
   "cell_type": "code",
   "execution_count": 3,
   "metadata": {},
   "outputs": [
    {
     "data": {
      "text/plain": [
       "array(['fraudster_event', 'premium', 'spammer_warn', 'fraudster',\n",
       "       'spammer_limited', 'spammer_noinvite', 'locked', 'tos_lock',\n",
       "       'tos_warn', 'fraudster_att', 'spammer_web', 'spammer'],\n",
       "      dtype=object)"
      ]
     },
     "execution_count": 3,
     "metadata": {},
     "output_type": "execute_result"
    }
   ],
   "source": [
    "df.acct_type.unique()"
   ]
  },
  {
   "cell_type": "code",
   "execution_count": 4,
   "metadata": {},
   "outputs": [
    {
     "data": {
      "text/plain": [
       "(14337, 44)"
      ]
     },
     "execution_count": 4,
     "metadata": {},
     "output_type": "execute_result"
    }
   ],
   "source": [
    "df.shape"
   ]
  },
  {
   "cell_type": "code",
   "execution_count": 5,
   "metadata": {},
   "outputs": [
    {
     "data": {
      "text/html": [
       "<div>\n",
       "<style scoped>\n",
       "    .dataframe tbody tr th:only-of-type {\n",
       "        vertical-align: middle;\n",
       "    }\n",
       "\n",
       "    .dataframe tbody tr th {\n",
       "        vertical-align: top;\n",
       "    }\n",
       "\n",
       "    .dataframe thead th {\n",
       "        text-align: right;\n",
       "    }\n",
       "</style>\n",
       "<table border=\"1\" class=\"dataframe\">\n",
       "  <thead>\n",
       "    <tr style=\"text-align: right;\">\n",
       "      <th></th>\n",
       "      <th>acct_type</th>\n",
       "      <th>approx_payout_date</th>\n",
       "      <th>body_length</th>\n",
       "      <th>channels</th>\n",
       "      <th>country</th>\n",
       "      <th>currency</th>\n",
       "      <th>delivery_method</th>\n",
       "      <th>description</th>\n",
       "      <th>email_domain</th>\n",
       "      <th>event_created</th>\n",
       "      <th>...</th>\n",
       "      <th>ticket_types</th>\n",
       "      <th>user_age</th>\n",
       "      <th>user_created</th>\n",
       "      <th>user_type</th>\n",
       "      <th>venue_address</th>\n",
       "      <th>venue_country</th>\n",
       "      <th>venue_latitude</th>\n",
       "      <th>venue_longitude</th>\n",
       "      <th>venue_name</th>\n",
       "      <th>venue_state</th>\n",
       "    </tr>\n",
       "  </thead>\n",
       "  <tbody>\n",
       "    <tr>\n",
       "      <th>0</th>\n",
       "      <td>fraudster_event</td>\n",
       "      <td>1266062400</td>\n",
       "      <td>3852</td>\n",
       "      <td>5</td>\n",
       "      <td>US</td>\n",
       "      <td>USD</td>\n",
       "      <td>0.0</td>\n",
       "      <td>&lt;p&gt;&lt;a href=\"http://s432.photobucket.com/albums...</td>\n",
       "      <td>gmail.com</td>\n",
       "      <td>1262739706</td>\n",
       "      <td>...</td>\n",
       "      <td>[{'event_id': 527017, 'cost': 25.0, 'availabil...</td>\n",
       "      <td>36</td>\n",
       "      <td>1259613950</td>\n",
       "      <td>1</td>\n",
       "      <td>717 Washington Avenue</td>\n",
       "      <td>US</td>\n",
       "      <td>25.777471</td>\n",
       "      <td>-80.133433</td>\n",
       "      <td>INK Nightclub - South Beach</td>\n",
       "      <td>FL</td>\n",
       "    </tr>\n",
       "    <tr>\n",
       "      <th>1</th>\n",
       "      <td>premium</td>\n",
       "      <td>1296720000</td>\n",
       "      <td>3499</td>\n",
       "      <td>0</td>\n",
       "      <td>US</td>\n",
       "      <td>USD</td>\n",
       "      <td>1.0</td>\n",
       "      <td>&lt;p&gt;Join us for a quick, one-night, community-b...</td>\n",
       "      <td>ruf.org</td>\n",
       "      <td>1293832670</td>\n",
       "      <td>...</td>\n",
       "      <td>[{'event_id': 786878, 'cost': 35.0, 'availabil...</td>\n",
       "      <td>149</td>\n",
       "      <td>1280942776</td>\n",
       "      <td>3</td>\n",
       "      <td></td>\n",
       "      <td>US</td>\n",
       "      <td>32.776566</td>\n",
       "      <td>-79.930922</td>\n",
       "      <td>The Charleston, SC area</td>\n",
       "      <td>SC</td>\n",
       "    </tr>\n",
       "    <tr>\n",
       "      <th>2</th>\n",
       "      <td>premium</td>\n",
       "      <td>1296172800</td>\n",
       "      <td>2601</td>\n",
       "      <td>8</td>\n",
       "      <td>US</td>\n",
       "      <td>USD</td>\n",
       "      <td>1.0</td>\n",
       "      <td>&lt;h3&gt;&lt;span class=\"subcategory\"&gt;&lt;strong&gt;Teacher ...</td>\n",
       "      <td>pvsd.k12.ca.us</td>\n",
       "      <td>1291090956</td>\n",
       "      <td>...</td>\n",
       "      <td>[{'event_id': 787337, 'cost': 93.51, 'availabi...</td>\n",
       "      <td>214</td>\n",
       "      <td>1272559388</td>\n",
       "      <td>3</td>\n",
       "      <td>10100 Pioneer Blvd Suite 100</td>\n",
       "      <td>US</td>\n",
       "      <td>33.944201</td>\n",
       "      <td>-118.080419</td>\n",
       "      <td>Los Angeles County Office of Education</td>\n",
       "      <td>CA</td>\n",
       "    </tr>\n",
       "    <tr>\n",
       "      <th>3</th>\n",
       "      <td>premium</td>\n",
       "      <td>1388966400</td>\n",
       "      <td>12347</td>\n",
       "      <td>6</td>\n",
       "      <td>IE</td>\n",
       "      <td>EUR</td>\n",
       "      <td>1.0</td>\n",
       "      <td>&lt;p style=\"margin-bottom: 1.3em; padding-bottom...</td>\n",
       "      <td>irishtabletennis.com</td>\n",
       "      <td>1360681570</td>\n",
       "      <td>...</td>\n",
       "      <td>[{'event_id': 885645, 'cost': 25.0, 'availabil...</td>\n",
       "      <td>889</td>\n",
       "      <td>1283870102</td>\n",
       "      <td>3</td>\n",
       "      <td></td>\n",
       "      <td>None</td>\n",
       "      <td>NaN</td>\n",
       "      <td>NaN</td>\n",
       "      <td>None</td>\n",
       "      <td>None</td>\n",
       "    </tr>\n",
       "    <tr>\n",
       "      <th>4</th>\n",
       "      <td>premium</td>\n",
       "      <td>1297900800</td>\n",
       "      <td>2417</td>\n",
       "      <td>11</td>\n",
       "      <td>US</td>\n",
       "      <td>USD</td>\n",
       "      <td>0.0</td>\n",
       "      <td>&lt;p&gt;Writers and filmmakers need to understand t...</td>\n",
       "      <td>artsandbusinesscouncil.org</td>\n",
       "      <td>1291994666</td>\n",
       "      <td>...</td>\n",
       "      <td>[{'event_id': 1114349, 'cost': 150.0, 'availab...</td>\n",
       "      <td>35</td>\n",
       "      <td>1288984065</td>\n",
       "      <td>3</td>\n",
       "      <td>One Marina Park Drive</td>\n",
       "      <td>US</td>\n",
       "      <td>42.353848</td>\n",
       "      <td>-71.044276</td>\n",
       "      <td>Fish &amp; Richardson</td>\n",
       "      <td>MA</td>\n",
       "    </tr>\n",
       "  </tbody>\n",
       "</table>\n",
       "<p>5 rows × 44 columns</p>\n",
       "</div>"
      ],
      "text/plain": [
       "         acct_type  approx_payout_date  body_length  channels country  \\\n",
       "0  fraudster_event          1266062400         3852         5      US   \n",
       "1          premium          1296720000         3499         0      US   \n",
       "2          premium          1296172800         2601         8      US   \n",
       "3          premium          1388966400        12347         6      IE   \n",
       "4          premium          1297900800         2417        11      US   \n",
       "\n",
       "  currency  delivery_method  \\\n",
       "0      USD              0.0   \n",
       "1      USD              1.0   \n",
       "2      USD              1.0   \n",
       "3      EUR              1.0   \n",
       "4      USD              0.0   \n",
       "\n",
       "                                         description  \\\n",
       "0  <p><a href=\"http://s432.photobucket.com/albums...   \n",
       "1  <p>Join us for a quick, one-night, community-b...   \n",
       "2  <h3><span class=\"subcategory\"><strong>Teacher ...   \n",
       "3  <p style=\"margin-bottom: 1.3em; padding-bottom...   \n",
       "4  <p>Writers and filmmakers need to understand t...   \n",
       "\n",
       "                 email_domain  event_created  ...  \\\n",
       "0                   gmail.com     1262739706  ...   \n",
       "1                     ruf.org     1293832670  ...   \n",
       "2              pvsd.k12.ca.us     1291090956  ...   \n",
       "3        irishtabletennis.com     1360681570  ...   \n",
       "4  artsandbusinesscouncil.org     1291994666  ...   \n",
       "\n",
       "                                        ticket_types  user_age  user_created  \\\n",
       "0  [{'event_id': 527017, 'cost': 25.0, 'availabil...        36    1259613950   \n",
       "1  [{'event_id': 786878, 'cost': 35.0, 'availabil...       149    1280942776   \n",
       "2  [{'event_id': 787337, 'cost': 93.51, 'availabi...       214    1272559388   \n",
       "3  [{'event_id': 885645, 'cost': 25.0, 'availabil...       889    1283870102   \n",
       "4  [{'event_id': 1114349, 'cost': 150.0, 'availab...        35    1288984065   \n",
       "\n",
       "   user_type                 venue_address  venue_country  venue_latitude  \\\n",
       "0          1         717 Washington Avenue             US       25.777471   \n",
       "1          3                                           US       32.776566   \n",
       "2          3  10100 Pioneer Blvd Suite 100             US       33.944201   \n",
       "3          3                                         None             NaN   \n",
       "4          3        One Marina Park Drive              US       42.353848   \n",
       "\n",
       "   venue_longitude                              venue_name venue_state  \n",
       "0       -80.133433             INK Nightclub - South Beach          FL  \n",
       "1       -79.930922                 The Charleston, SC area          SC  \n",
       "2      -118.080419  Los Angeles County Office of Education          CA  \n",
       "3              NaN                                    None        None  \n",
       "4       -71.044276                       Fish & Richardson          MA  \n",
       "\n",
       "[5 rows x 44 columns]"
      ]
     },
     "execution_count": 5,
     "metadata": {},
     "output_type": "execute_result"
    }
   ],
   "source": [
    "df.head()"
   ]
  },
  {
   "cell_type": "code",
   "execution_count": 6,
   "metadata": {},
   "outputs": [
    {
     "name": "stderr",
     "output_type": "stream",
     "text": [
      "/Users/hyorimlee/opt/anaconda3/lib/python3.7/site-packages/pandas/core/generic.py:5303: SettingWithCopyWarning: \n",
      "A value is trying to be set on a copy of a slice from a DataFrame.\n",
      "Try using .loc[row_indexer,col_indexer] = value instead\n",
      "\n",
      "See the caveats in the documentation: https://pandas.pydata.org/pandas-docs/stable/user_guide/indexing.html#returning-a-view-versus-a-copy\n",
      "  self[name] = value\n"
     ]
    }
   ],
   "source": [
    "fraud = df[df.acct_type.str.startswith('fraud')]\n",
    "fraud.acct_type = 'fraud'\n"
   ]
  },
  {
   "cell_type": "code",
   "execution_count": 7,
   "metadata": {},
   "outputs": [],
   "source": [
    "not_fraud = df[~df.acct_type.str.startswith('fraud')]\n",
    "not_fraud.acct_type = 'not fraud'"
   ]
  },
  {
   "cell_type": "code",
   "execution_count": 8,
   "metadata": {},
   "outputs": [],
   "source": [
    "df[\"acct_type\"] = df[\"acct_type\"].apply(lambda x : 1 if x.startswith(\"fraud\") else 0)\n"
   ]
  },
  {
   "cell_type": "code",
   "execution_count": 9,
   "metadata": {},
   "outputs": [
    {
     "data": {
      "text/html": [
       "<div>\n",
       "<style scoped>\n",
       "    .dataframe tbody tr th:only-of-type {\n",
       "        vertical-align: middle;\n",
       "    }\n",
       "\n",
       "    .dataframe tbody tr th {\n",
       "        vertical-align: top;\n",
       "    }\n",
       "\n",
       "    .dataframe thead th {\n",
       "        text-align: right;\n",
       "    }\n",
       "</style>\n",
       "<table border=\"1\" class=\"dataframe\">\n",
       "  <thead>\n",
       "    <tr style=\"text-align: right;\">\n",
       "      <th></th>\n",
       "      <th>acct_type</th>\n",
       "      <th>approx_payout_date</th>\n",
       "      <th>body_length</th>\n",
       "      <th>channels</th>\n",
       "      <th>country</th>\n",
       "      <th>currency</th>\n",
       "      <th>delivery_method</th>\n",
       "      <th>description</th>\n",
       "      <th>email_domain</th>\n",
       "      <th>event_created</th>\n",
       "      <th>...</th>\n",
       "      <th>ticket_types</th>\n",
       "      <th>user_age</th>\n",
       "      <th>user_created</th>\n",
       "      <th>user_type</th>\n",
       "      <th>venue_address</th>\n",
       "      <th>venue_country</th>\n",
       "      <th>venue_latitude</th>\n",
       "      <th>venue_longitude</th>\n",
       "      <th>venue_name</th>\n",
       "      <th>venue_state</th>\n",
       "    </tr>\n",
       "  </thead>\n",
       "  <tbody>\n",
       "    <tr>\n",
       "      <th>0</th>\n",
       "      <td>1</td>\n",
       "      <td>1266062400</td>\n",
       "      <td>3852</td>\n",
       "      <td>5</td>\n",
       "      <td>US</td>\n",
       "      <td>USD</td>\n",
       "      <td>0.0</td>\n",
       "      <td>&lt;p&gt;&lt;a href=\"http://s432.photobucket.com/albums...</td>\n",
       "      <td>gmail.com</td>\n",
       "      <td>1262739706</td>\n",
       "      <td>...</td>\n",
       "      <td>[{'event_id': 527017, 'cost': 25.0, 'availabil...</td>\n",
       "      <td>36</td>\n",
       "      <td>1259613950</td>\n",
       "      <td>1</td>\n",
       "      <td>717 Washington Avenue</td>\n",
       "      <td>US</td>\n",
       "      <td>25.777471</td>\n",
       "      <td>-80.133433</td>\n",
       "      <td>INK Nightclub - South Beach</td>\n",
       "      <td>FL</td>\n",
       "    </tr>\n",
       "    <tr>\n",
       "      <th>1</th>\n",
       "      <td>0</td>\n",
       "      <td>1296720000</td>\n",
       "      <td>3499</td>\n",
       "      <td>0</td>\n",
       "      <td>US</td>\n",
       "      <td>USD</td>\n",
       "      <td>1.0</td>\n",
       "      <td>&lt;p&gt;Join us for a quick, one-night, community-b...</td>\n",
       "      <td>ruf.org</td>\n",
       "      <td>1293832670</td>\n",
       "      <td>...</td>\n",
       "      <td>[{'event_id': 786878, 'cost': 35.0, 'availabil...</td>\n",
       "      <td>149</td>\n",
       "      <td>1280942776</td>\n",
       "      <td>3</td>\n",
       "      <td></td>\n",
       "      <td>US</td>\n",
       "      <td>32.776566</td>\n",
       "      <td>-79.930922</td>\n",
       "      <td>The Charleston, SC area</td>\n",
       "      <td>SC</td>\n",
       "    </tr>\n",
       "    <tr>\n",
       "      <th>2</th>\n",
       "      <td>0</td>\n",
       "      <td>1296172800</td>\n",
       "      <td>2601</td>\n",
       "      <td>8</td>\n",
       "      <td>US</td>\n",
       "      <td>USD</td>\n",
       "      <td>1.0</td>\n",
       "      <td>&lt;h3&gt;&lt;span class=\"subcategory\"&gt;&lt;strong&gt;Teacher ...</td>\n",
       "      <td>pvsd.k12.ca.us</td>\n",
       "      <td>1291090956</td>\n",
       "      <td>...</td>\n",
       "      <td>[{'event_id': 787337, 'cost': 93.51, 'availabi...</td>\n",
       "      <td>214</td>\n",
       "      <td>1272559388</td>\n",
       "      <td>3</td>\n",
       "      <td>10100 Pioneer Blvd Suite 100</td>\n",
       "      <td>US</td>\n",
       "      <td>33.944201</td>\n",
       "      <td>-118.080419</td>\n",
       "      <td>Los Angeles County Office of Education</td>\n",
       "      <td>CA</td>\n",
       "    </tr>\n",
       "    <tr>\n",
       "      <th>3</th>\n",
       "      <td>0</td>\n",
       "      <td>1388966400</td>\n",
       "      <td>12347</td>\n",
       "      <td>6</td>\n",
       "      <td>IE</td>\n",
       "      <td>EUR</td>\n",
       "      <td>1.0</td>\n",
       "      <td>&lt;p style=\"margin-bottom: 1.3em; padding-bottom...</td>\n",
       "      <td>irishtabletennis.com</td>\n",
       "      <td>1360681570</td>\n",
       "      <td>...</td>\n",
       "      <td>[{'event_id': 885645, 'cost': 25.0, 'availabil...</td>\n",
       "      <td>889</td>\n",
       "      <td>1283870102</td>\n",
       "      <td>3</td>\n",
       "      <td></td>\n",
       "      <td>None</td>\n",
       "      <td>NaN</td>\n",
       "      <td>NaN</td>\n",
       "      <td>None</td>\n",
       "      <td>None</td>\n",
       "    </tr>\n",
       "    <tr>\n",
       "      <th>4</th>\n",
       "      <td>0</td>\n",
       "      <td>1297900800</td>\n",
       "      <td>2417</td>\n",
       "      <td>11</td>\n",
       "      <td>US</td>\n",
       "      <td>USD</td>\n",
       "      <td>0.0</td>\n",
       "      <td>&lt;p&gt;Writers and filmmakers need to understand t...</td>\n",
       "      <td>artsandbusinesscouncil.org</td>\n",
       "      <td>1291994666</td>\n",
       "      <td>...</td>\n",
       "      <td>[{'event_id': 1114349, 'cost': 150.0, 'availab...</td>\n",
       "      <td>35</td>\n",
       "      <td>1288984065</td>\n",
       "      <td>3</td>\n",
       "      <td>One Marina Park Drive</td>\n",
       "      <td>US</td>\n",
       "      <td>42.353848</td>\n",
       "      <td>-71.044276</td>\n",
       "      <td>Fish &amp; Richardson</td>\n",
       "      <td>MA</td>\n",
       "    </tr>\n",
       "    <tr>\n",
       "      <th>...</th>\n",
       "      <td>...</td>\n",
       "      <td>...</td>\n",
       "      <td>...</td>\n",
       "      <td>...</td>\n",
       "      <td>...</td>\n",
       "      <td>...</td>\n",
       "      <td>...</td>\n",
       "      <td>...</td>\n",
       "      <td>...</td>\n",
       "      <td>...</td>\n",
       "      <td>...</td>\n",
       "      <td>...</td>\n",
       "      <td>...</td>\n",
       "      <td>...</td>\n",
       "      <td>...</td>\n",
       "      <td>...</td>\n",
       "      <td>...</td>\n",
       "      <td>...</td>\n",
       "      <td>...</td>\n",
       "      <td>...</td>\n",
       "      <td>...</td>\n",
       "    </tr>\n",
       "    <tr>\n",
       "      <th>14332</th>\n",
       "      <td>1</td>\n",
       "      <td>1361689200</td>\n",
       "      <td>667</td>\n",
       "      <td>0</td>\n",
       "      <td>US</td>\n",
       "      <td>USD</td>\n",
       "      <td>0.0</td>\n",
       "      <td>&lt;p&gt;Celebrates this wonderful holiday with the ...</td>\n",
       "      <td>yahoo.com</td>\n",
       "      <td>1360297993</td>\n",
       "      <td>...</td>\n",
       "      <td>[{'event_id': 5456442, 'cost': 45.0, 'availabi...</td>\n",
       "      <td>0</td>\n",
       "      <td>1360297993</td>\n",
       "      <td>1</td>\n",
       "      <td>6100 North Charles Street</td>\n",
       "      <td>US</td>\n",
       "      <td>39.373780</td>\n",
       "      <td>-76.629921</td>\n",
       "      <td>Elkridge Club</td>\n",
       "      <td>MD</td>\n",
       "    </tr>\n",
       "    <tr>\n",
       "      <th>14333</th>\n",
       "      <td>0</td>\n",
       "      <td>1365566400</td>\n",
       "      <td>5812</td>\n",
       "      <td>5</td>\n",
       "      <td>US</td>\n",
       "      <td>USD</td>\n",
       "      <td>1.0</td>\n",
       "      <td>&lt;table style=\"width: 600px;\" border=\"0\" cellsp...</td>\n",
       "      <td>me.com</td>\n",
       "      <td>1360367042</td>\n",
       "      <td>...</td>\n",
       "      <td>[{'event_id': 5465112, 'cost': 90.0, 'availabi...</td>\n",
       "      <td>1374</td>\n",
       "      <td>1241625346</td>\n",
       "      <td>4</td>\n",
       "      <td>1775 E Mission Bay Dr</td>\n",
       "      <td>US</td>\n",
       "      <td>32.778906</td>\n",
       "      <td>-117.209791</td>\n",
       "      <td>Hilton San Diego Resort and Spa (Hilton Missio...</td>\n",
       "      <td>CA</td>\n",
       "    </tr>\n",
       "    <tr>\n",
       "      <th>14334</th>\n",
       "      <td>0</td>\n",
       "      <td>1368781200</td>\n",
       "      <td>557</td>\n",
       "      <td>13</td>\n",
       "      <td></td>\n",
       "      <td>USD</td>\n",
       "      <td>0.0</td>\n",
       "      <td>&lt;p&gt;What a way to start off your Mother's Day l...</td>\n",
       "      <td>yahoo.com</td>\n",
       "      <td>1360600330</td>\n",
       "      <td>...</td>\n",
       "      <td>[{'event_id': 5465732, 'cost': 20.0, 'availabi...</td>\n",
       "      <td>84</td>\n",
       "      <td>1353386971</td>\n",
       "      <td>4</td>\n",
       "      <td>5991 Bullard Road</td>\n",
       "      <td>US</td>\n",
       "      <td>30.041819</td>\n",
       "      <td>-89.957130</td>\n",
       "      <td>Fleur De Lis Ballroom NUMBER 2</td>\n",
       "      <td>LA</td>\n",
       "    </tr>\n",
       "    <tr>\n",
       "      <th>14335</th>\n",
       "      <td>0</td>\n",
       "      <td>1361361600</td>\n",
       "      <td>10873</td>\n",
       "      <td>8</td>\n",
       "      <td>US</td>\n",
       "      <td>USD</td>\n",
       "      <td>0.0</td>\n",
       "      <td>&lt;p style=\"font-family: 'Helvetica Neue', Helve...</td>\n",
       "      <td>velvetlist.com</td>\n",
       "      <td>1360376285</td>\n",
       "      <td>...</td>\n",
       "      <td>[{'event_id': 5465810, 'cost': 79.33, 'availab...</td>\n",
       "      <td>812</td>\n",
       "      <td>1290204991</td>\n",
       "      <td>3</td>\n",
       "      <td>2297 Cedar Ave</td>\n",
       "      <td>US</td>\n",
       "      <td>40.862283</td>\n",
       "      <td>-73.911363</td>\n",
       "      <td>Salsa con fuego</td>\n",
       "      <td>NY</td>\n",
       "    </tr>\n",
       "    <tr>\n",
       "      <th>14336</th>\n",
       "      <td>1</td>\n",
       "      <td>1363316400</td>\n",
       "      <td>0</td>\n",
       "      <td>0</td>\n",
       "      <td>GB</td>\n",
       "      <td>GBP</td>\n",
       "      <td>0.0</td>\n",
       "      <td></td>\n",
       "      <td>gmail.com</td>\n",
       "      <td>1360686846</td>\n",
       "      <td>...</td>\n",
       "      <td>[{'event_id': 5492990, 'cost': 283.0, 'availab...</td>\n",
       "      <td>0</td>\n",
       "      <td>1360686845</td>\n",
       "      <td>1</td>\n",
       "      <td>192 Pembroke Street</td>\n",
       "      <td>GB</td>\n",
       "      <td>51.460131</td>\n",
       "      <td>-2.586503</td>\n",
       "      <td>massage salon private house</td>\n",
       "      <td>Bristol, City Of</td>\n",
       "    </tr>\n",
       "  </tbody>\n",
       "</table>\n",
       "<p>14337 rows × 44 columns</p>\n",
       "</div>"
      ],
      "text/plain": [
       "       acct_type  approx_payout_date  body_length  channels country currency  \\\n",
       "0              1          1266062400         3852         5      US      USD   \n",
       "1              0          1296720000         3499         0      US      USD   \n",
       "2              0          1296172800         2601         8      US      USD   \n",
       "3              0          1388966400        12347         6      IE      EUR   \n",
       "4              0          1297900800         2417        11      US      USD   \n",
       "...          ...                 ...          ...       ...     ...      ...   \n",
       "14332          1          1361689200          667         0      US      USD   \n",
       "14333          0          1365566400         5812         5      US      USD   \n",
       "14334          0          1368781200          557        13              USD   \n",
       "14335          0          1361361600        10873         8      US      USD   \n",
       "14336          1          1363316400            0         0      GB      GBP   \n",
       "\n",
       "       delivery_method                                        description  \\\n",
       "0                  0.0  <p><a href=\"http://s432.photobucket.com/albums...   \n",
       "1                  1.0  <p>Join us for a quick, one-night, community-b...   \n",
       "2                  1.0  <h3><span class=\"subcategory\"><strong>Teacher ...   \n",
       "3                  1.0  <p style=\"margin-bottom: 1.3em; padding-bottom...   \n",
       "4                  0.0  <p>Writers and filmmakers need to understand t...   \n",
       "...                ...                                                ...   \n",
       "14332              0.0  <p>Celebrates this wonderful holiday with the ...   \n",
       "14333              1.0  <table style=\"width: 600px;\" border=\"0\" cellsp...   \n",
       "14334              0.0  <p>What a way to start off your Mother's Day l...   \n",
       "14335              0.0  <p style=\"font-family: 'Helvetica Neue', Helve...   \n",
       "14336              0.0                                                      \n",
       "\n",
       "                     email_domain  event_created  ...  \\\n",
       "0                       gmail.com     1262739706  ...   \n",
       "1                         ruf.org     1293832670  ...   \n",
       "2                  pvsd.k12.ca.us     1291090956  ...   \n",
       "3            irishtabletennis.com     1360681570  ...   \n",
       "4      artsandbusinesscouncil.org     1291994666  ...   \n",
       "...                           ...            ...  ...   \n",
       "14332                   yahoo.com     1360297993  ...   \n",
       "14333                      me.com     1360367042  ...   \n",
       "14334                   yahoo.com     1360600330  ...   \n",
       "14335              velvetlist.com     1360376285  ...   \n",
       "14336                   gmail.com     1360686846  ...   \n",
       "\n",
       "                                            ticket_types  user_age  \\\n",
       "0      [{'event_id': 527017, 'cost': 25.0, 'availabil...        36   \n",
       "1      [{'event_id': 786878, 'cost': 35.0, 'availabil...       149   \n",
       "2      [{'event_id': 787337, 'cost': 93.51, 'availabi...       214   \n",
       "3      [{'event_id': 885645, 'cost': 25.0, 'availabil...       889   \n",
       "4      [{'event_id': 1114349, 'cost': 150.0, 'availab...        35   \n",
       "...                                                  ...       ...   \n",
       "14332  [{'event_id': 5456442, 'cost': 45.0, 'availabi...         0   \n",
       "14333  [{'event_id': 5465112, 'cost': 90.0, 'availabi...      1374   \n",
       "14334  [{'event_id': 5465732, 'cost': 20.0, 'availabi...        84   \n",
       "14335  [{'event_id': 5465810, 'cost': 79.33, 'availab...       812   \n",
       "14336  [{'event_id': 5492990, 'cost': 283.0, 'availab...         0   \n",
       "\n",
       "       user_created  user_type                 venue_address  venue_country  \\\n",
       "0        1259613950          1         717 Washington Avenue             US   \n",
       "1        1280942776          3                                           US   \n",
       "2        1272559388          3  10100 Pioneer Blvd Suite 100             US   \n",
       "3        1283870102          3                                         None   \n",
       "4        1288984065          3        One Marina Park Drive              US   \n",
       "...             ...        ...                           ...            ...   \n",
       "14332    1360297993          1     6100 North Charles Street             US   \n",
       "14333    1241625346          4         1775 E Mission Bay Dr             US   \n",
       "14334    1353386971          4             5991 Bullard Road             US   \n",
       "14335    1290204991          3               2297 Cedar Ave              US   \n",
       "14336    1360686845          1           192 Pembroke Street             GB   \n",
       "\n",
       "       venue_latitude  venue_longitude  \\\n",
       "0           25.777471       -80.133433   \n",
       "1           32.776566       -79.930922   \n",
       "2           33.944201      -118.080419   \n",
       "3                 NaN              NaN   \n",
       "4           42.353848       -71.044276   \n",
       "...               ...              ...   \n",
       "14332       39.373780       -76.629921   \n",
       "14333       32.778906      -117.209791   \n",
       "14334       30.041819       -89.957130   \n",
       "14335       40.862283       -73.911363   \n",
       "14336       51.460131        -2.586503   \n",
       "\n",
       "                                              venue_name       venue_state  \n",
       "0                            INK Nightclub - South Beach                FL  \n",
       "1                                The Charleston, SC area                SC  \n",
       "2                 Los Angeles County Office of Education                CA  \n",
       "3                                                   None              None  \n",
       "4                                      Fish & Richardson                MA  \n",
       "...                                                  ...               ...  \n",
       "14332                                      Elkridge Club                MD  \n",
       "14333  Hilton San Diego Resort and Spa (Hilton Missio...                CA  \n",
       "14334                     Fleur De Lis Ballroom NUMBER 2                LA  \n",
       "14335                                   Salsa con fuego                 NY  \n",
       "14336                        massage salon private house  Bristol, City Of  \n",
       "\n",
       "[14337 rows x 44 columns]"
      ]
     },
     "execution_count": 9,
     "metadata": {},
     "output_type": "execute_result"
    }
   ],
   "source": [
    "df"
   ]
  },
  {
   "cell_type": "code",
   "execution_count": 10,
   "metadata": {},
   "outputs": [
    {
     "data": {
      "text/html": [
       "<div>\n",
       "<style scoped>\n",
       "    .dataframe tbody tr th:only-of-type {\n",
       "        vertical-align: middle;\n",
       "    }\n",
       "\n",
       "    .dataframe tbody tr th {\n",
       "        vertical-align: top;\n",
       "    }\n",
       "\n",
       "    .dataframe thead th {\n",
       "        text-align: right;\n",
       "    }\n",
       "</style>\n",
       "<table border=\"1\" class=\"dataframe\">\n",
       "  <thead>\n",
       "    <tr style=\"text-align: right;\">\n",
       "      <th></th>\n",
       "      <th>acct_type</th>\n",
       "      <th>approx_payout_date</th>\n",
       "      <th>body_length</th>\n",
       "      <th>channels</th>\n",
       "      <th>country</th>\n",
       "      <th>currency</th>\n",
       "      <th>delivery_method</th>\n",
       "      <th>description</th>\n",
       "      <th>email_domain</th>\n",
       "      <th>event_created</th>\n",
       "      <th>...</th>\n",
       "      <th>ticket_types</th>\n",
       "      <th>user_age</th>\n",
       "      <th>user_created</th>\n",
       "      <th>user_type</th>\n",
       "      <th>venue_address</th>\n",
       "      <th>venue_country</th>\n",
       "      <th>venue_latitude</th>\n",
       "      <th>venue_longitude</th>\n",
       "      <th>venue_name</th>\n",
       "      <th>venue_state</th>\n",
       "    </tr>\n",
       "  </thead>\n",
       "  <tbody>\n",
       "    <tr>\n",
       "      <th>1</th>\n",
       "      <td>not fraud</td>\n",
       "      <td>1296720000</td>\n",
       "      <td>3499</td>\n",
       "      <td>0</td>\n",
       "      <td>US</td>\n",
       "      <td>USD</td>\n",
       "      <td>1.0</td>\n",
       "      <td>&lt;p&gt;Join us for a quick, one-night, community-b...</td>\n",
       "      <td>ruf.org</td>\n",
       "      <td>1293832670</td>\n",
       "      <td>...</td>\n",
       "      <td>[{'event_id': 786878, 'cost': 35.0, 'availabil...</td>\n",
       "      <td>149</td>\n",
       "      <td>1280942776</td>\n",
       "      <td>3</td>\n",
       "      <td></td>\n",
       "      <td>US</td>\n",
       "      <td>32.776566</td>\n",
       "      <td>-79.930922</td>\n",
       "      <td>The Charleston, SC area</td>\n",
       "      <td>SC</td>\n",
       "    </tr>\n",
       "    <tr>\n",
       "      <th>2</th>\n",
       "      <td>not fraud</td>\n",
       "      <td>1296172800</td>\n",
       "      <td>2601</td>\n",
       "      <td>8</td>\n",
       "      <td>US</td>\n",
       "      <td>USD</td>\n",
       "      <td>1.0</td>\n",
       "      <td>&lt;h3&gt;&lt;span class=\"subcategory\"&gt;&lt;strong&gt;Teacher ...</td>\n",
       "      <td>pvsd.k12.ca.us</td>\n",
       "      <td>1291090956</td>\n",
       "      <td>...</td>\n",
       "      <td>[{'event_id': 787337, 'cost': 93.51, 'availabi...</td>\n",
       "      <td>214</td>\n",
       "      <td>1272559388</td>\n",
       "      <td>3</td>\n",
       "      <td>10100 Pioneer Blvd Suite 100</td>\n",
       "      <td>US</td>\n",
       "      <td>33.944201</td>\n",
       "      <td>-118.080419</td>\n",
       "      <td>Los Angeles County Office of Education</td>\n",
       "      <td>CA</td>\n",
       "    </tr>\n",
       "    <tr>\n",
       "      <th>3</th>\n",
       "      <td>not fraud</td>\n",
       "      <td>1388966400</td>\n",
       "      <td>12347</td>\n",
       "      <td>6</td>\n",
       "      <td>IE</td>\n",
       "      <td>EUR</td>\n",
       "      <td>1.0</td>\n",
       "      <td>&lt;p style=\"margin-bottom: 1.3em; padding-bottom...</td>\n",
       "      <td>irishtabletennis.com</td>\n",
       "      <td>1360681570</td>\n",
       "      <td>...</td>\n",
       "      <td>[{'event_id': 885645, 'cost': 25.0, 'availabil...</td>\n",
       "      <td>889</td>\n",
       "      <td>1283870102</td>\n",
       "      <td>3</td>\n",
       "      <td></td>\n",
       "      <td>None</td>\n",
       "      <td>NaN</td>\n",
       "      <td>NaN</td>\n",
       "      <td>None</td>\n",
       "      <td>None</td>\n",
       "    </tr>\n",
       "    <tr>\n",
       "      <th>4</th>\n",
       "      <td>not fraud</td>\n",
       "      <td>1297900800</td>\n",
       "      <td>2417</td>\n",
       "      <td>11</td>\n",
       "      <td>US</td>\n",
       "      <td>USD</td>\n",
       "      <td>0.0</td>\n",
       "      <td>&lt;p&gt;Writers and filmmakers need to understand t...</td>\n",
       "      <td>artsandbusinesscouncil.org</td>\n",
       "      <td>1291994666</td>\n",
       "      <td>...</td>\n",
       "      <td>[{'event_id': 1114349, 'cost': 150.0, 'availab...</td>\n",
       "      <td>35</td>\n",
       "      <td>1288984065</td>\n",
       "      <td>3</td>\n",
       "      <td>One Marina Park Drive</td>\n",
       "      <td>US</td>\n",
       "      <td>42.353848</td>\n",
       "      <td>-71.044276</td>\n",
       "      <td>Fish &amp; Richardson</td>\n",
       "      <td>MA</td>\n",
       "    </tr>\n",
       "    <tr>\n",
       "      <th>5</th>\n",
       "      <td>not fraud</td>\n",
       "      <td>1300496400</td>\n",
       "      <td>117</td>\n",
       "      <td>6</td>\n",
       "      <td>US</td>\n",
       "      <td>USD</td>\n",
       "      <td>0.0</td>\n",
       "      <td>&lt;p&gt;Come join the Bluegrass Stallions as they t...</td>\n",
       "      <td>bluegrassstallions.com</td>\n",
       "      <td>1294421810</td>\n",
       "      <td>...</td>\n",
       "      <td>[{'event_id': 1179983, 'cost': 8.0, 'availabil...</td>\n",
       "      <td>299</td>\n",
       "      <td>1268579110</td>\n",
       "      <td>1</td>\n",
       "      <td></td>\n",
       "      <td>US</td>\n",
       "      <td>38.209797</td>\n",
       "      <td>-84.558831</td>\n",
       "      <td>Georgetown College Alumni Gymnasium</td>\n",
       "      <td>KY</td>\n",
       "    </tr>\n",
       "  </tbody>\n",
       "</table>\n",
       "<p>5 rows × 44 columns</p>\n",
       "</div>"
      ],
      "text/plain": [
       "   acct_type  approx_payout_date  body_length  channels country currency  \\\n",
       "1  not fraud          1296720000         3499         0      US      USD   \n",
       "2  not fraud          1296172800         2601         8      US      USD   \n",
       "3  not fraud          1388966400        12347         6      IE      EUR   \n",
       "4  not fraud          1297900800         2417        11      US      USD   \n",
       "5  not fraud          1300496400          117         6      US      USD   \n",
       "\n",
       "   delivery_method                                        description  \\\n",
       "1              1.0  <p>Join us for a quick, one-night, community-b...   \n",
       "2              1.0  <h3><span class=\"subcategory\"><strong>Teacher ...   \n",
       "3              1.0  <p style=\"margin-bottom: 1.3em; padding-bottom...   \n",
       "4              0.0  <p>Writers and filmmakers need to understand t...   \n",
       "5              0.0  <p>Come join the Bluegrass Stallions as they t...   \n",
       "\n",
       "                 email_domain  event_created  ...  \\\n",
       "1                     ruf.org     1293832670  ...   \n",
       "2              pvsd.k12.ca.us     1291090956  ...   \n",
       "3        irishtabletennis.com     1360681570  ...   \n",
       "4  artsandbusinesscouncil.org     1291994666  ...   \n",
       "5      bluegrassstallions.com     1294421810  ...   \n",
       "\n",
       "                                        ticket_types  user_age  user_created  \\\n",
       "1  [{'event_id': 786878, 'cost': 35.0, 'availabil...       149    1280942776   \n",
       "2  [{'event_id': 787337, 'cost': 93.51, 'availabi...       214    1272559388   \n",
       "3  [{'event_id': 885645, 'cost': 25.0, 'availabil...       889    1283870102   \n",
       "4  [{'event_id': 1114349, 'cost': 150.0, 'availab...        35    1288984065   \n",
       "5  [{'event_id': 1179983, 'cost': 8.0, 'availabil...       299    1268579110   \n",
       "\n",
       "   user_type                 venue_address  venue_country  venue_latitude  \\\n",
       "1          3                                           US       32.776566   \n",
       "2          3  10100 Pioneer Blvd Suite 100             US       33.944201   \n",
       "3          3                                         None             NaN   \n",
       "4          3        One Marina Park Drive              US       42.353848   \n",
       "5          1                                           US       38.209797   \n",
       "\n",
       "   venue_longitude                              venue_name venue_state  \n",
       "1       -79.930922                 The Charleston, SC area          SC  \n",
       "2      -118.080419  Los Angeles County Office of Education          CA  \n",
       "3              NaN                                    None        None  \n",
       "4       -71.044276                       Fish & Richardson          MA  \n",
       "5       -84.558831     Georgetown College Alumni Gymnasium          KY  \n",
       "\n",
       "[5 rows x 44 columns]"
      ]
     },
     "execution_count": 10,
     "metadata": {},
     "output_type": "execute_result"
    }
   ],
   "source": [
    "not_fraud.head()"
   ]
  },
  {
   "cell_type": "code",
   "execution_count": 11,
   "metadata": {},
   "outputs": [
    {
     "data": {
      "text/plain": [
       "True"
      ]
     },
     "execution_count": 11,
     "metadata": {},
     "output_type": "execute_result"
    }
   ],
   "source": [
    "fraud.shape[0] + not_fraud.shape[0] == df.shape[0]"
   ]
  },
  {
   "cell_type": "code",
   "execution_count": 12,
   "metadata": {},
   "outputs": [
    {
     "data": {
      "text/plain": [
       "0.09018623142916929"
      ]
     },
     "execution_count": 12,
     "metadata": {},
     "output_type": "execute_result"
    }
   ],
   "source": [
    "fraud.shape[0]/df.shape[0]"
   ]
  },
  {
   "cell_type": "code",
   "execution_count": 13,
   "metadata": {},
   "outputs": [
    {
     "data": {
      "text/html": [
       "<div>\n",
       "<style scoped>\n",
       "    .dataframe tbody tr th:only-of-type {\n",
       "        vertical-align: middle;\n",
       "    }\n",
       "\n",
       "    .dataframe tbody tr th {\n",
       "        vertical-align: top;\n",
       "    }\n",
       "\n",
       "    .dataframe thead th {\n",
       "        text-align: right;\n",
       "    }\n",
       "</style>\n",
       "<table border=\"1\" class=\"dataframe\">\n",
       "  <thead>\n",
       "    <tr style=\"text-align: right;\">\n",
       "      <th></th>\n",
       "      <th>acct_type</th>\n",
       "      <th>approx_payout_date</th>\n",
       "      <th>body_length</th>\n",
       "      <th>channels</th>\n",
       "      <th>country</th>\n",
       "      <th>currency</th>\n",
       "      <th>delivery_method</th>\n",
       "      <th>description</th>\n",
       "      <th>email_domain</th>\n",
       "      <th>event_created</th>\n",
       "      <th>...</th>\n",
       "      <th>ticket_types</th>\n",
       "      <th>user_age</th>\n",
       "      <th>user_created</th>\n",
       "      <th>user_type</th>\n",
       "      <th>venue_address</th>\n",
       "      <th>venue_country</th>\n",
       "      <th>venue_latitude</th>\n",
       "      <th>venue_longitude</th>\n",
       "      <th>venue_name</th>\n",
       "      <th>venue_state</th>\n",
       "    </tr>\n",
       "  </thead>\n",
       "  <tbody>\n",
       "    <tr>\n",
       "      <th>0</th>\n",
       "      <td>fraud</td>\n",
       "      <td>1266062400</td>\n",
       "      <td>3852</td>\n",
       "      <td>5</td>\n",
       "      <td>US</td>\n",
       "      <td>USD</td>\n",
       "      <td>0.0</td>\n",
       "      <td>&lt;p&gt;&lt;a href=\"http://s432.photobucket.com/albums...</td>\n",
       "      <td>gmail.com</td>\n",
       "      <td>1262739706</td>\n",
       "      <td>...</td>\n",
       "      <td>[{'event_id': 527017, 'cost': 25.0, 'availabil...</td>\n",
       "      <td>36</td>\n",
       "      <td>1259613950</td>\n",
       "      <td>1</td>\n",
       "      <td>717 Washington Avenue</td>\n",
       "      <td>US</td>\n",
       "      <td>25.777471</td>\n",
       "      <td>-80.133433</td>\n",
       "      <td>INK Nightclub - South Beach</td>\n",
       "      <td>FL</td>\n",
       "    </tr>\n",
       "    <tr>\n",
       "      <th>26</th>\n",
       "      <td>fraud</td>\n",
       "      <td>1299607200</td>\n",
       "      <td>870</td>\n",
       "      <td>11</td>\n",
       "      <td>US</td>\n",
       "      <td>USD</td>\n",
       "      <td>0.0</td>\n",
       "      <td>&lt;h1 class=\"post\"&gt;Welcome&lt;/h1&gt;\\r\\n&lt;p&gt; &lt;/p&gt;\\r\\n&lt;...</td>\n",
       "      <td>hotmail.com</td>\n",
       "      <td>1299171416</td>\n",
       "      <td>...</td>\n",
       "      <td>[{'event_id': 1386643, 'cost': 300.0, 'availab...</td>\n",
       "      <td>42</td>\n",
       "      <td>1295576777</td>\n",
       "      <td>3</td>\n",
       "      <td>400 Fifth Avenue</td>\n",
       "      <td>US</td>\n",
       "      <td>40.750228</td>\n",
       "      <td>-73.983714</td>\n",
       "      <td>The Setai</td>\n",
       "      <td>NY</td>\n",
       "    </tr>\n",
       "    <tr>\n",
       "      <th>51</th>\n",
       "      <td>fraud</td>\n",
       "      <td>1329465600</td>\n",
       "      <td>536</td>\n",
       "      <td>6</td>\n",
       "      <td>US</td>\n",
       "      <td>USD</td>\n",
       "      <td>0.0</td>\n",
       "      <td>&lt;p&gt;&lt;span style=\"font-size: x-large;\"&gt;Okay ever...</td>\n",
       "      <td>cox.net</td>\n",
       "      <td>1317544696</td>\n",
       "      <td>...</td>\n",
       "      <td>[{'event_id': 1928009, 'cost': 30.0, 'availabi...</td>\n",
       "      <td>77</td>\n",
       "      <td>1310957994</td>\n",
       "      <td>1</td>\n",
       "      <td>404 euclid ave</td>\n",
       "      <td>US</td>\n",
       "      <td>32.702072</td>\n",
       "      <td>-117.085088</td>\n",
       "      <td>The Jacobs Center at Market Creek</td>\n",
       "      <td>CA</td>\n",
       "    </tr>\n",
       "    <tr>\n",
       "      <th>54</th>\n",
       "      <td>fraud</td>\n",
       "      <td>1312761600</td>\n",
       "      <td>3081</td>\n",
       "      <td>11</td>\n",
       "      <td></td>\n",
       "      <td>GBP</td>\n",
       "      <td>0.0</td>\n",
       "      <td>&lt;h3&gt;&lt;strong&gt;&lt;strong&gt;&lt;span style=\"font-family: ...</td>\n",
       "      <td>hotmail.co.uk</td>\n",
       "      <td>1311717051</td>\n",
       "      <td>...</td>\n",
       "      <td>[{'event_id': 1964043, 'cost': 500.0, 'availab...</td>\n",
       "      <td>0</td>\n",
       "      <td>1311717050</td>\n",
       "      <td>1</td>\n",
       "      <td>Hammersmith Road</td>\n",
       "      <td></td>\n",
       "      <td>0.000000</td>\n",
       "      <td>0.000000</td>\n",
       "      <td>Olympia Exhibition Hall</td>\n",
       "      <td></td>\n",
       "    </tr>\n",
       "    <tr>\n",
       "      <th>70</th>\n",
       "      <td>fraud</td>\n",
       "      <td>1322895600</td>\n",
       "      <td>0</td>\n",
       "      <td>13</td>\n",
       "      <td>US</td>\n",
       "      <td>USD</td>\n",
       "      <td>0.0</td>\n",
       "      <td></td>\n",
       "      <td>yahoo.com</td>\n",
       "      <td>1316795942</td>\n",
       "      <td>...</td>\n",
       "      <td>[{'event_id': 2228484, 'cost': 30.0, 'availabi...</td>\n",
       "      <td>0</td>\n",
       "      <td>1316795486</td>\n",
       "      <td>1</td>\n",
       "      <td>5801 Security Blvd</td>\n",
       "      <td>US</td>\n",
       "      <td>39.308752</td>\n",
       "      <td>-76.716174</td>\n",
       "      <td></td>\n",
       "      <td>MD</td>\n",
       "    </tr>\n",
       "  </tbody>\n",
       "</table>\n",
       "<p>5 rows × 44 columns</p>\n",
       "</div>"
      ],
      "text/plain": [
       "   acct_type  approx_payout_date  body_length  channels country currency  \\\n",
       "0      fraud          1266062400         3852         5      US      USD   \n",
       "26     fraud          1299607200          870        11      US      USD   \n",
       "51     fraud          1329465600          536         6      US      USD   \n",
       "54     fraud          1312761600         3081        11              GBP   \n",
       "70     fraud          1322895600            0        13      US      USD   \n",
       "\n",
       "    delivery_method                                        description  \\\n",
       "0               0.0  <p><a href=\"http://s432.photobucket.com/albums...   \n",
       "26              0.0  <h1 class=\"post\">Welcome</h1>\\r\\n<p> </p>\\r\\n<...   \n",
       "51              0.0  <p><span style=\"font-size: x-large;\">Okay ever...   \n",
       "54              0.0  <h3><strong><strong><span style=\"font-family: ...   \n",
       "70              0.0                                                      \n",
       "\n",
       "     email_domain  event_created  ...  \\\n",
       "0       gmail.com     1262739706  ...   \n",
       "26    hotmail.com     1299171416  ...   \n",
       "51        cox.net     1317544696  ...   \n",
       "54  hotmail.co.uk     1311717051  ...   \n",
       "70      yahoo.com     1316795942  ...   \n",
       "\n",
       "                                         ticket_types  user_age  user_created  \\\n",
       "0   [{'event_id': 527017, 'cost': 25.0, 'availabil...        36    1259613950   \n",
       "26  [{'event_id': 1386643, 'cost': 300.0, 'availab...        42    1295576777   \n",
       "51  [{'event_id': 1928009, 'cost': 30.0, 'availabi...        77    1310957994   \n",
       "54  [{'event_id': 1964043, 'cost': 500.0, 'availab...         0    1311717050   \n",
       "70  [{'event_id': 2228484, 'cost': 30.0, 'availabi...         0    1316795486   \n",
       "\n",
       "    user_type          venue_address  venue_country  venue_latitude  \\\n",
       "0           1  717 Washington Avenue             US       25.777471   \n",
       "26          3       400 Fifth Avenue             US       40.750228   \n",
       "51          1         404 euclid ave             US       32.702072   \n",
       "54          1       Hammersmith Road                       0.000000   \n",
       "70          1     5801 Security Blvd             US       39.308752   \n",
       "\n",
       "    venue_longitude                         venue_name venue_state  \n",
       "0        -80.133433        INK Nightclub - South Beach          FL  \n",
       "26       -73.983714                          The Setai          NY  \n",
       "51      -117.085088  The Jacobs Center at Market Creek          CA  \n",
       "54         0.000000            Olympia Exhibition Hall              \n",
       "70       -76.716174                                             MD  \n",
       "\n",
       "[5 rows x 44 columns]"
      ]
     },
     "execution_count": 13,
     "metadata": {},
     "output_type": "execute_result"
    }
   ],
   "source": [
    "fraud.head()"
   ]
  },
  {
   "cell_type": "code",
   "execution_count": 14,
   "metadata": {},
   "outputs": [
    {
     "data": {
      "text/plain": [
       "0        [{'event_id': 527017, 'cost': 25.0, 'availabil...\n",
       "1        [{'event_id': 786878, 'cost': 35.0, 'availabil...\n",
       "2        [{'event_id': 787337, 'cost': 93.51, 'availabi...\n",
       "3        [{'event_id': 885645, 'cost': 25.0, 'availabil...\n",
       "4        [{'event_id': 1114349, 'cost': 150.0, 'availab...\n",
       "                               ...                        \n",
       "14332    [{'event_id': 5456442, 'cost': 45.0, 'availabi...\n",
       "14333    [{'event_id': 5465112, 'cost': 90.0, 'availabi...\n",
       "14334    [{'event_id': 5465732, 'cost': 20.0, 'availabi...\n",
       "14335    [{'event_id': 5465810, 'cost': 79.33, 'availab...\n",
       "14336    [{'event_id': 5492990, 'cost': 283.0, 'availab...\n",
       "Name: ticket_types, Length: 14337, dtype: object"
      ]
     },
     "execution_count": 14,
     "metadata": {},
     "output_type": "execute_result"
    }
   ],
   "source": [
    "df.ticket_types"
   ]
  },
  {
   "cell_type": "code",
   "execution_count": 15,
   "metadata": {},
   "outputs": [
    {
     "data": {
      "text/plain": [
       "0        <p><a href=\"http://s432.photobucket.com/albums...\n",
       "1        <p>Join us for a quick, one-night, community-b...\n",
       "2        <h3><span class=\"subcategory\"><strong>Teacher ...\n",
       "3        <p style=\"margin-bottom: 1.3em; padding-bottom...\n",
       "4        <p>Writers and filmmakers need to understand t...\n",
       "                               ...                        \n",
       "14332    <p>Celebrates this wonderful holiday with the ...\n",
       "14333    <table style=\"width: 600px;\" border=\"0\" cellsp...\n",
       "14334    <p>What a way to start off your Mother's Day l...\n",
       "14335    <p style=\"font-family: 'Helvetica Neue', Helve...\n",
       "14336                                                     \n",
       "Name: description, Length: 14337, dtype: object"
      ]
     },
     "execution_count": 15,
     "metadata": {},
     "output_type": "execute_result"
    }
   ],
   "source": [
    "df.description"
   ]
  },
  {
   "cell_type": "code",
   "execution_count": 16,
   "metadata": {},
   "outputs": [
    {
     "data": {
      "text/plain": [
       "0        1\n",
       "1        0\n",
       "2        0\n",
       "3        0\n",
       "4        0\n",
       "        ..\n",
       "14332    1\n",
       "14333    0\n",
       "14334    0\n",
       "14335    0\n",
       "14336    1\n",
       "Name: acct_type, Length: 14337, dtype: int64"
      ]
     },
     "execution_count": 16,
     "metadata": {},
     "output_type": "execute_result"
    }
   ],
   "source": [
    "df.acct_type.astype('int64')"
   ]
  },
  {
   "cell_type": "markdown",
   "metadata": {},
   "source": [
    "## Text Preprocessing"
   ]
  },
  {
   "cell_type": "code",
   "execution_count": 17,
   "metadata": {},
   "outputs": [],
   "source": [
    "corpus= [docu for docu in df.description]"
   ]
  },
  {
   "cell_type": "code",
   "execution_count": 18,
   "metadata": {},
   "outputs": [],
   "source": [
    "tokens_lower = [[word.lower() for word in sent] for sent in corpus]"
   ]
  },
  {
   "cell_type": "code",
   "execution_count": 19,
   "metadata": {},
   "outputs": [],
   "source": [
    "vectorizer = TfidfVectorizer(\n",
    "            strip_accents='unicode', analyzer='word', ngram_range = (1,2),\n",
    "            use_idf=1,smooth_idf=1,sublinear_tf=1, stop_words = 'english')\n",
    "X = vectorizer.fit_transform(df.description)\n",
    "words = vectorizer.get_feature_names()"
   ]
  },
  {
   "cell_type": "code",
   "execution_count": 20,
   "metadata": {},
   "outputs": [],
   "source": [
    "not_fraud_corpus = [line for line in not_fraud.description]"
   ]
  },
  {
   "cell_type": "code",
   "execution_count": 21,
   "metadata": {},
   "outputs": [],
   "source": [
    "clean_not_fraud= []\n",
    "for case in not_fraud_corpus:\n",
    "    clean_not_fraud.append(strip_tags(case))"
   ]
  },
  {
   "cell_type": "code",
   "execution_count": 22,
   "metadata": {},
   "outputs": [],
   "source": [
    "final_not_fraud=[]\n",
    "for line in clean_not_fraud:\n",
    "    final_not_fraud.append(preprocess(line))"
   ]
  },
  {
   "cell_type": "code",
   "execution_count": 23,
   "metadata": {},
   "outputs": [],
   "source": [
    "fraud_corpus = [line for line in fraud.description]"
   ]
  },
  {
   "cell_type": "code",
   "execution_count": 24,
   "metadata": {},
   "outputs": [],
   "source": [
    "clean_fraud= []\n",
    "for case in fraud_corpus:\n",
    "    clean_fraud.append(strip_tags(case))"
   ]
  },
  {
   "cell_type": "code",
   "execution_count": 25,
   "metadata": {},
   "outputs": [],
   "source": [
    "final_fraud=[]\n",
    "for line in clean_fraud:\n",
    "    final_fraud.append(preprocess(line))"
   ]
  },
  {
   "cell_type": "code",
   "execution_count": 26,
   "metadata": {},
   "outputs": [],
   "source": [
    "clean_corpus= []\n",
    "for case in corpus:\n",
    "    clean_corpus.append(strip_tags(case))"
   ]
  },
  {
   "cell_type": "code",
   "execution_count": 27,
   "metadata": {},
   "outputs": [],
   "source": [
    "final_corpus=[]\n",
    "for line in clean_corpus:\n",
    "    final_corpus.append(preprocess(line))"
   ]
  },
  {
   "cell_type": "code",
   "execution_count": 28,
   "metadata": {},
   "outputs": [
    {
     "data": {
      "text/plain": [
       "'join us quick one night community building trip charleston sc cost trip costs total includes breakfast lunch saturday housing responsible pay dinner friday saturday early bird tickets available noon january include great winter getaway shirt wait register registration ends noon january limited number scholarships available contact campus minister soon possible see qualify transportation working secure two fifteen passenger buses filled first come first served basis payment must received slot bus reserved responsible transportation bus slot available bring staying gym metro north presbyterian church goose creek sc showering maybe various members homes want bring air mattress sleeping bag towel anything else might need get good nights sleep cold gym floor also need bring money dinner friday saturday night general tentative itinerary friday leave dinkins parking lot winthrop arrive metro north church drop eat dinner downtown charleston hang return metro north sleep saturday seminar faith pack clean load noon head head back downtown charleston dinner leave rock hill midnight arrive home waivers registering conference hereby acknowledge agreement following waivers emergency waiver attendee hereby authorize staff reformed university fellowship winthrop act agent consent medical surgical dental examination treatment case emergency hereby authorize treatment care hospital insurance liability waiver consideration allowed participate winthrop ruf winter getaway hereby assume risks involved participation event understand responsible medical expenses waive legal right claim family might reformed university fellowship ministries staff board directors result injury incurred death participation activities travel winter getaway agree foregoing insurance liability waiver agreement intended broad inclusive permitted law state province event conducted portion thereof held invalid agreed balance shall continue full force effect'"
      ]
     },
     "execution_count": 28,
     "metadata": {},
     "output_type": "execute_result"
    }
   ],
   "source": [
    "final_corpus[1]"
   ]
  },
  {
   "cell_type": "code",
   "execution_count": 29,
   "metadata": {},
   "outputs": [],
   "source": [
    "df.description = final_corpus"
   ]
  },
  {
   "cell_type": "code",
   "execution_count": 30,
   "metadata": {},
   "outputs": [
    {
     "name": "stderr",
     "output_type": "stream",
     "text": [
      "/Users/hyorimlee/opt/anaconda3/lib/python3.7/site-packages/pandas/core/generic.py:5303: SettingWithCopyWarning: \n",
      "A value is trying to be set on a copy of a slice from a DataFrame.\n",
      "Try using .loc[row_indexer,col_indexer] = value instead\n",
      "\n",
      "See the caveats in the documentation: https://pandas.pydata.org/pandas-docs/stable/user_guide/indexing.html#returning-a-view-versus-a-copy\n",
      "  self[name] = value\n"
     ]
    }
   ],
   "source": [
    "fraud.description = final_fraud"
   ]
  },
  {
   "cell_type": "code",
   "execution_count": 31,
   "metadata": {},
   "outputs": [],
   "source": [
    "not_fraud.description=final_not_fraud"
   ]
  },
  {
   "cell_type": "code",
   "execution_count": 32,
   "metadata": {},
   "outputs": [
    {
     "data": {
      "text/plain": [
       "'valentines day salsa con fuego salsa con fuego cedar ave bronx ny ticket event call us music latin hiphop mash ups ticket options available showing must arrive includes admission people choice appetizer entree desert person also enjoy live comedy shows chris grant anthony aj foster mtvs yo momma jamar johnson live dj refunds showing must arrive includes admission people choice appetizer entree desert person also enjoy live comedy shows chris grant anthony aj foster mtvs yo momma jamar johnson live dj refunds join us valentines day salsa con fuego ticket include admission people choice appetizer entree desert person also enjoy live comedy shows chris grant anthony aj foster mtvs yo momma jamar johnson live dj salsa con fuego bronxs newest upscale latin venue salsa con fuego square feet venue equipped performance stage lounge restaurant dress code dress impress questions event regards booknig event salsa con fuego call menu options appertizers choice camerones al bohio shrimp enveloped puff pastry creamy garlic sauce tostone relleno de ropa vieja fried green plantain topped cuban style shredded beef creole sauce chicharron de pollo con mojito picante fried crispy chicken chunks jalepeno mojito entree choice fliete de pescado relleno de cangrejo yucca en crema de ajo filet sol stuffed crab cassava garlic cream sauce casuela de marisco creole seafood stew shrimp calimari mussels fish pechuga de pollo al mojo la parilla grilled chicken breast finished lemon garlic sauce churrasco la parilla certified angus steak char grilled served choice chimichurri mojo sauce deserts choice flan chocolate covered strawberries complementary glass wine champagne meal'"
      ]
     },
     "execution_count": 32,
     "metadata": {},
     "output_type": "execute_result"
    }
   ],
   "source": [
    "df.description.iloc[-2]"
   ]
  },
  {
   "cell_type": "code",
   "execution_count": 33,
   "metadata": {},
   "outputs": [
    {
     "data": {
      "text/html": [
       "<div>\n",
       "<style scoped>\n",
       "    .dataframe tbody tr th:only-of-type {\n",
       "        vertical-align: middle;\n",
       "    }\n",
       "\n",
       "    .dataframe tbody tr th {\n",
       "        vertical-align: top;\n",
       "    }\n",
       "\n",
       "    .dataframe thead th {\n",
       "        text-align: right;\n",
       "    }\n",
       "</style>\n",
       "<table border=\"1\" class=\"dataframe\">\n",
       "  <thead>\n",
       "    <tr style=\"text-align: right;\">\n",
       "      <th></th>\n",
       "      <th>acct_type</th>\n",
       "      <th>approx_payout_date</th>\n",
       "      <th>body_length</th>\n",
       "      <th>channels</th>\n",
       "      <th>country</th>\n",
       "      <th>currency</th>\n",
       "      <th>delivery_method</th>\n",
       "      <th>description</th>\n",
       "      <th>email_domain</th>\n",
       "      <th>event_created</th>\n",
       "      <th>...</th>\n",
       "      <th>ticket_types</th>\n",
       "      <th>user_age</th>\n",
       "      <th>user_created</th>\n",
       "      <th>user_type</th>\n",
       "      <th>venue_address</th>\n",
       "      <th>venue_country</th>\n",
       "      <th>venue_latitude</th>\n",
       "      <th>venue_longitude</th>\n",
       "      <th>venue_name</th>\n",
       "      <th>venue_state</th>\n",
       "    </tr>\n",
       "  </thead>\n",
       "  <tbody>\n",
       "    <tr>\n",
       "      <th>0</th>\n",
       "      <td>1</td>\n",
       "      <td>1266062400</td>\n",
       "      <td>3852</td>\n",
       "      <td>5</td>\n",
       "      <td>US</td>\n",
       "      <td>USD</td>\n",
       "      <td>0.0</td>\n",
       "      <td>party starz entertaintment diverse internation...</td>\n",
       "      <td>gmail.com</td>\n",
       "      <td>1262739706</td>\n",
       "      <td>...</td>\n",
       "      <td>[{'event_id': 527017, 'cost': 25.0, 'availabil...</td>\n",
       "      <td>36</td>\n",
       "      <td>1259613950</td>\n",
       "      <td>1</td>\n",
       "      <td>717 Washington Avenue</td>\n",
       "      <td>US</td>\n",
       "      <td>25.777471</td>\n",
       "      <td>-80.133433</td>\n",
       "      <td>INK Nightclub - South Beach</td>\n",
       "      <td>FL</td>\n",
       "    </tr>\n",
       "    <tr>\n",
       "      <th>1</th>\n",
       "      <td>0</td>\n",
       "      <td>1296720000</td>\n",
       "      <td>3499</td>\n",
       "      <td>0</td>\n",
       "      <td>US</td>\n",
       "      <td>USD</td>\n",
       "      <td>1.0</td>\n",
       "      <td>join us quick one night community building tri...</td>\n",
       "      <td>ruf.org</td>\n",
       "      <td>1293832670</td>\n",
       "      <td>...</td>\n",
       "      <td>[{'event_id': 786878, 'cost': 35.0, 'availabil...</td>\n",
       "      <td>149</td>\n",
       "      <td>1280942776</td>\n",
       "      <td>3</td>\n",
       "      <td></td>\n",
       "      <td>US</td>\n",
       "      <td>32.776566</td>\n",
       "      <td>-79.930922</td>\n",
       "      <td>The Charleston, SC area</td>\n",
       "      <td>SC</td>\n",
       "    </tr>\n",
       "    <tr>\n",
       "      <th>2</th>\n",
       "      <td>0</td>\n",
       "      <td>1296172800</td>\n",
       "      <td>2601</td>\n",
       "      <td>8</td>\n",
       "      <td>US</td>\n",
       "      <td>USD</td>\n",
       "      <td>1.0</td>\n",
       "      <td>teacher training desired results developmental...</td>\n",
       "      <td>pvsd.k12.ca.us</td>\n",
       "      <td>1291090956</td>\n",
       "      <td>...</td>\n",
       "      <td>[{'event_id': 787337, 'cost': 93.51, 'availabi...</td>\n",
       "      <td>214</td>\n",
       "      <td>1272559388</td>\n",
       "      <td>3</td>\n",
       "      <td>10100 Pioneer Blvd Suite 100</td>\n",
       "      <td>US</td>\n",
       "      <td>33.944201</td>\n",
       "      <td>-118.080419</td>\n",
       "      <td>Los Angeles County Office of Education</td>\n",
       "      <td>CA</td>\n",
       "    </tr>\n",
       "    <tr>\n",
       "      <th>3</th>\n",
       "      <td>0</td>\n",
       "      <td>1388966400</td>\n",
       "      <td>12347</td>\n",
       "      <td>6</td>\n",
       "      <td>IE</td>\n",
       "      <td>EUR</td>\n",
       "      <td>1.0</td>\n",
       "      <td>affiliations due respect calendar year importa...</td>\n",
       "      <td>irishtabletennis.com</td>\n",
       "      <td>1360681570</td>\n",
       "      <td>...</td>\n",
       "      <td>[{'event_id': 885645, 'cost': 25.0, 'availabil...</td>\n",
       "      <td>889</td>\n",
       "      <td>1283870102</td>\n",
       "      <td>3</td>\n",
       "      <td></td>\n",
       "      <td>None</td>\n",
       "      <td>NaN</td>\n",
       "      <td>NaN</td>\n",
       "      <td>None</td>\n",
       "      <td>None</td>\n",
       "    </tr>\n",
       "    <tr>\n",
       "      <th>4</th>\n",
       "      <td>0</td>\n",
       "      <td>1297900800</td>\n",
       "      <td>2417</td>\n",
       "      <td>11</td>\n",
       "      <td>US</td>\n",
       "      <td>USD</td>\n",
       "      <td>0.0</td>\n",
       "      <td>writers filmmakers need understand legal right...</td>\n",
       "      <td>artsandbusinesscouncil.org</td>\n",
       "      <td>1291994666</td>\n",
       "      <td>...</td>\n",
       "      <td>[{'event_id': 1114349, 'cost': 150.0, 'availab...</td>\n",
       "      <td>35</td>\n",
       "      <td>1288984065</td>\n",
       "      <td>3</td>\n",
       "      <td>One Marina Park Drive</td>\n",
       "      <td>US</td>\n",
       "      <td>42.353848</td>\n",
       "      <td>-71.044276</td>\n",
       "      <td>Fish &amp; Richardson</td>\n",
       "      <td>MA</td>\n",
       "    </tr>\n",
       "    <tr>\n",
       "      <th>...</th>\n",
       "      <td>...</td>\n",
       "      <td>...</td>\n",
       "      <td>...</td>\n",
       "      <td>...</td>\n",
       "      <td>...</td>\n",
       "      <td>...</td>\n",
       "      <td>...</td>\n",
       "      <td>...</td>\n",
       "      <td>...</td>\n",
       "      <td>...</td>\n",
       "      <td>...</td>\n",
       "      <td>...</td>\n",
       "      <td>...</td>\n",
       "      <td>...</td>\n",
       "      <td>...</td>\n",
       "      <td>...</td>\n",
       "      <td>...</td>\n",
       "      <td>...</td>\n",
       "      <td>...</td>\n",
       "      <td>...</td>\n",
       "      <td>...</td>\n",
       "    </tr>\n",
       "    <tr>\n",
       "      <th>14332</th>\n",
       "      <td>1</td>\n",
       "      <td>1361689200</td>\n",
       "      <td>667</td>\n",
       "      <td>0</td>\n",
       "      <td>US</td>\n",
       "      <td>USD</td>\n",
       "      <td>0.0</td>\n",
       "      <td>celebrates wonderful holiday friends family fo...</td>\n",
       "      <td>yahoo.com</td>\n",
       "      <td>1360297993</td>\n",
       "      <td>...</td>\n",
       "      <td>[{'event_id': 5456442, 'cost': 45.0, 'availabi...</td>\n",
       "      <td>0</td>\n",
       "      <td>1360297993</td>\n",
       "      <td>1</td>\n",
       "      <td>6100 North Charles Street</td>\n",
       "      <td>US</td>\n",
       "      <td>39.373780</td>\n",
       "      <td>-76.629921</td>\n",
       "      <td>Elkridge Club</td>\n",
       "      <td>MD</td>\n",
       "    </tr>\n",
       "    <tr>\n",
       "      <th>14333</th>\n",
       "      <td>0</td>\n",
       "      <td>1365566400</td>\n",
       "      <td>5812</td>\n",
       "      <td>5</td>\n",
       "      <td>US</td>\n",
       "      <td>USD</td>\n",
       "      <td>1.0</td>\n",
       "      <td>scientist year honoring eric topol physician ...</td>\n",
       "      <td>me.com</td>\n",
       "      <td>1360367042</td>\n",
       "      <td>...</td>\n",
       "      <td>[{'event_id': 5465112, 'cost': 90.0, 'availabi...</td>\n",
       "      <td>1374</td>\n",
       "      <td>1241625346</td>\n",
       "      <td>4</td>\n",
       "      <td>1775 E Mission Bay Dr</td>\n",
       "      <td>US</td>\n",
       "      <td>32.778906</td>\n",
       "      <td>-117.209791</td>\n",
       "      <td>Hilton San Diego Resort and Spa (Hilton Missio...</td>\n",
       "      <td>CA</td>\n",
       "    </tr>\n",
       "    <tr>\n",
       "      <th>14334</th>\n",
       "      <td>0</td>\n",
       "      <td>1368781200</td>\n",
       "      <td>557</td>\n",
       "      <td>13</td>\n",
       "      <td></td>\n",
       "      <td>USD</td>\n",
       "      <td>0.0</td>\n",
       "      <td>way start mother day ladies may tiffantasy ent...</td>\n",
       "      <td>yahoo.com</td>\n",
       "      <td>1360600330</td>\n",
       "      <td>...</td>\n",
       "      <td>[{'event_id': 5465732, 'cost': 20.0, 'availabi...</td>\n",
       "      <td>84</td>\n",
       "      <td>1353386971</td>\n",
       "      <td>4</td>\n",
       "      <td>5991 Bullard Road</td>\n",
       "      <td>US</td>\n",
       "      <td>30.041819</td>\n",
       "      <td>-89.957130</td>\n",
       "      <td>Fleur De Lis Ballroom NUMBER 2</td>\n",
       "      <td>LA</td>\n",
       "    </tr>\n",
       "    <tr>\n",
       "      <th>14335</th>\n",
       "      <td>0</td>\n",
       "      <td>1361361600</td>\n",
       "      <td>10873</td>\n",
       "      <td>8</td>\n",
       "      <td>US</td>\n",
       "      <td>USD</td>\n",
       "      <td>0.0</td>\n",
       "      <td>valentines day salsa con fuego salsa con fuego...</td>\n",
       "      <td>velvetlist.com</td>\n",
       "      <td>1360376285</td>\n",
       "      <td>...</td>\n",
       "      <td>[{'event_id': 5465810, 'cost': 79.33, 'availab...</td>\n",
       "      <td>812</td>\n",
       "      <td>1290204991</td>\n",
       "      <td>3</td>\n",
       "      <td>2297 Cedar Ave</td>\n",
       "      <td>US</td>\n",
       "      <td>40.862283</td>\n",
       "      <td>-73.911363</td>\n",
       "      <td>Salsa con fuego</td>\n",
       "      <td>NY</td>\n",
       "    </tr>\n",
       "    <tr>\n",
       "      <th>14336</th>\n",
       "      <td>1</td>\n",
       "      <td>1363316400</td>\n",
       "      <td>0</td>\n",
       "      <td>0</td>\n",
       "      <td>GB</td>\n",
       "      <td>GBP</td>\n",
       "      <td>0.0</td>\n",
       "      <td></td>\n",
       "      <td>gmail.com</td>\n",
       "      <td>1360686846</td>\n",
       "      <td>...</td>\n",
       "      <td>[{'event_id': 5492990, 'cost': 283.0, 'availab...</td>\n",
       "      <td>0</td>\n",
       "      <td>1360686845</td>\n",
       "      <td>1</td>\n",
       "      <td>192 Pembroke Street</td>\n",
       "      <td>GB</td>\n",
       "      <td>51.460131</td>\n",
       "      <td>-2.586503</td>\n",
       "      <td>massage salon private house</td>\n",
       "      <td>Bristol, City Of</td>\n",
       "    </tr>\n",
       "  </tbody>\n",
       "</table>\n",
       "<p>14337 rows × 44 columns</p>\n",
       "</div>"
      ],
      "text/plain": [
       "       acct_type  approx_payout_date  body_length  channels country currency  \\\n",
       "0              1          1266062400         3852         5      US      USD   \n",
       "1              0          1296720000         3499         0      US      USD   \n",
       "2              0          1296172800         2601         8      US      USD   \n",
       "3              0          1388966400        12347         6      IE      EUR   \n",
       "4              0          1297900800         2417        11      US      USD   \n",
       "...          ...                 ...          ...       ...     ...      ...   \n",
       "14332          1          1361689200          667         0      US      USD   \n",
       "14333          0          1365566400         5812         5      US      USD   \n",
       "14334          0          1368781200          557        13              USD   \n",
       "14335          0          1361361600        10873         8      US      USD   \n",
       "14336          1          1363316400            0         0      GB      GBP   \n",
       "\n",
       "       delivery_method                                        description  \\\n",
       "0                  0.0  party starz entertaintment diverse internation...   \n",
       "1                  1.0  join us quick one night community building tri...   \n",
       "2                  1.0  teacher training desired results developmental...   \n",
       "3                  1.0  affiliations due respect calendar year importa...   \n",
       "4                  0.0  writers filmmakers need understand legal right...   \n",
       "...                ...                                                ...   \n",
       "14332              0.0  celebrates wonderful holiday friends family fo...   \n",
       "14333              1.0   scientist year honoring eric topol physician ...   \n",
       "14334              0.0  way start mother day ladies may tiffantasy ent...   \n",
       "14335              0.0  valentines day salsa con fuego salsa con fuego...   \n",
       "14336              0.0                                                      \n",
       "\n",
       "                     email_domain  event_created  ...  \\\n",
       "0                       gmail.com     1262739706  ...   \n",
       "1                         ruf.org     1293832670  ...   \n",
       "2                  pvsd.k12.ca.us     1291090956  ...   \n",
       "3            irishtabletennis.com     1360681570  ...   \n",
       "4      artsandbusinesscouncil.org     1291994666  ...   \n",
       "...                           ...            ...  ...   \n",
       "14332                   yahoo.com     1360297993  ...   \n",
       "14333                      me.com     1360367042  ...   \n",
       "14334                   yahoo.com     1360600330  ...   \n",
       "14335              velvetlist.com     1360376285  ...   \n",
       "14336                   gmail.com     1360686846  ...   \n",
       "\n",
       "                                            ticket_types  user_age  \\\n",
       "0      [{'event_id': 527017, 'cost': 25.0, 'availabil...        36   \n",
       "1      [{'event_id': 786878, 'cost': 35.0, 'availabil...       149   \n",
       "2      [{'event_id': 787337, 'cost': 93.51, 'availabi...       214   \n",
       "3      [{'event_id': 885645, 'cost': 25.0, 'availabil...       889   \n",
       "4      [{'event_id': 1114349, 'cost': 150.0, 'availab...        35   \n",
       "...                                                  ...       ...   \n",
       "14332  [{'event_id': 5456442, 'cost': 45.0, 'availabi...         0   \n",
       "14333  [{'event_id': 5465112, 'cost': 90.0, 'availabi...      1374   \n",
       "14334  [{'event_id': 5465732, 'cost': 20.0, 'availabi...        84   \n",
       "14335  [{'event_id': 5465810, 'cost': 79.33, 'availab...       812   \n",
       "14336  [{'event_id': 5492990, 'cost': 283.0, 'availab...         0   \n",
       "\n",
       "       user_created  user_type                 venue_address  venue_country  \\\n",
       "0        1259613950          1         717 Washington Avenue             US   \n",
       "1        1280942776          3                                           US   \n",
       "2        1272559388          3  10100 Pioneer Blvd Suite 100             US   \n",
       "3        1283870102          3                                         None   \n",
       "4        1288984065          3        One Marina Park Drive              US   \n",
       "...             ...        ...                           ...            ...   \n",
       "14332    1360297993          1     6100 North Charles Street             US   \n",
       "14333    1241625346          4         1775 E Mission Bay Dr             US   \n",
       "14334    1353386971          4             5991 Bullard Road             US   \n",
       "14335    1290204991          3               2297 Cedar Ave              US   \n",
       "14336    1360686845          1           192 Pembroke Street             GB   \n",
       "\n",
       "       venue_latitude  venue_longitude  \\\n",
       "0           25.777471       -80.133433   \n",
       "1           32.776566       -79.930922   \n",
       "2           33.944201      -118.080419   \n",
       "3                 NaN              NaN   \n",
       "4           42.353848       -71.044276   \n",
       "...               ...              ...   \n",
       "14332       39.373780       -76.629921   \n",
       "14333       32.778906      -117.209791   \n",
       "14334       30.041819       -89.957130   \n",
       "14335       40.862283       -73.911363   \n",
       "14336       51.460131        -2.586503   \n",
       "\n",
       "                                              venue_name       venue_state  \n",
       "0                            INK Nightclub - South Beach                FL  \n",
       "1                                The Charleston, SC area                SC  \n",
       "2                 Los Angeles County Office of Education                CA  \n",
       "3                                                   None              None  \n",
       "4                                      Fish & Richardson                MA  \n",
       "...                                                  ...               ...  \n",
       "14332                                      Elkridge Club                MD  \n",
       "14333  Hilton San Diego Resort and Spa (Hilton Missio...                CA  \n",
       "14334                     Fleur De Lis Ballroom NUMBER 2                LA  \n",
       "14335                                   Salsa con fuego                 NY  \n",
       "14336                        massage salon private house  Bristol, City Of  \n",
       "\n",
       "[14337 rows x 44 columns]"
      ]
     },
     "execution_count": 33,
     "metadata": {},
     "output_type": "execute_result"
    }
   ],
   "source": [
    "df"
   ]
  },
  {
   "cell_type": "code",
   "execution_count": 34,
   "metadata": {},
   "outputs": [],
   "source": [
    "tokenized =[]\n",
    "for docu in final_corpus:\n",
    "    tokenized.append(word_tokenize(docu))"
   ]
  },
  {
   "cell_type": "code",
   "execution_count": 35,
   "metadata": {},
   "outputs": [
    {
     "data": {
      "text/plain": [
       "14337"
      ]
     },
     "execution_count": 35,
     "metadata": {},
     "output_type": "execute_result"
    }
   ],
   "source": [
    "len(tokenized)"
   ]
  },
  {
   "cell_type": "code",
   "execution_count": 36,
   "metadata": {},
   "outputs": [],
   "source": [
    "stemmer = PorterStemmer()"
   ]
  },
  {
   "cell_type": "code",
   "execution_count": 37,
   "metadata": {},
   "outputs": [],
   "source": [
    "# for docu in tokenized:\n",
    "    # singles = [stemmer.stem(word) for word in tokenized[2]]\n",
    "\n",
    "singles = []\n",
    "for docu in tokenized:\n",
    "    singles.append(stemmer.stem(word) for word in docu)"
   ]
  },
  {
   "cell_type": "code",
   "execution_count": 38,
   "metadata": {},
   "outputs": [
    {
     "data": {
      "text/plain": [
       "<generator object <genexpr> at 0x7fe917b86dd0>"
      ]
     },
     "execution_count": 38,
     "metadata": {},
     "output_type": "execute_result"
    }
   ],
   "source": [
    "singles[0]"
   ]
  },
  {
   "cell_type": "code",
   "execution_count": 39,
   "metadata": {},
   "outputs": [],
   "source": [
    "lst = []\n",
    "for docu in tokenized:\n",
    "    lst.append([stemmer.stem(word) for word in docu])"
   ]
  },
  {
   "cell_type": "code",
   "execution_count": 40,
   "metadata": {},
   "outputs": [
    {
     "data": {
      "text/plain": [
       "14337"
      ]
     },
     "execution_count": 40,
     "metadata": {},
     "output_type": "execute_result"
    }
   ],
   "source": [
    "len(lst)"
   ]
  },
  {
   "cell_type": "code",
   "execution_count": 41,
   "metadata": {},
   "outputs": [],
   "source": [
    "# Create a corpus from a list of texts\n",
    "common_dictionary = Dictionary(lst)\n",
    "common_corpus = [common_dictionary.doc2bow(text) for text in lst]"
   ]
  },
  {
   "cell_type": "markdown",
   "metadata": {},
   "source": [
    "# LDA Model"
   ]
  },
  {
   "cell_type": "code",
   "execution_count": 42,
   "metadata": {},
   "outputs": [],
   "source": [
    "lda = gensim.models.LdaModel(common_corpus, id2word=common_dictionary, num_topics=20)"
   ]
  },
  {
   "cell_type": "code",
   "execution_count": 43,
   "metadata": {},
   "outputs": [
    {
     "data": {
      "text/plain": [
       "[(0,\n",
       "  '0.008*\"new\" + 0.006*\"commun\" + 0.006*\"event\" + 0.006*\"social\" + 0.006*\"get\" + 0.005*\"busi\" + 0.005*\"make\" + 0.005*\"help\" + 0.005*\"peopl\" + 0.005*\"startup\"'),\n",
       " (1,\n",
       "  '0.017*\"paint\" + 0.015*\"sprint\" + 0.011*\"boulder\" + 0.010*\"hunger\" + 0.008*\"workout\" + 0.006*\"art\" + 0.006*\"time\" + 0.006*\"step\" + 0.006*\"class\" + 0.006*\"van\"'),\n",
       " (2,\n",
       "  '0.012*\"ticket\" + 0.008*\"event\" + 0.007*\"film\" + 0.005*\"ski\" + 0.005*\"time\" + 0.005*\"first\" + 0.005*\"show\" + 0.005*\"one\" + 0.004*\"com\" + 0.004*\"present\"'),\n",
       " (3,\n",
       "  '0.019*\"ticket\" + 0.017*\"com\" + 0.015*\"parti\" + 0.012*\"wine\" + 0.010*\"new\" + 0.009*\"www\" + 0.009*\"event\" + 0.008*\"night\" + 0.008*\"dj\" + 0.008*\"year\"'),\n",
       " (4,\n",
       "  '0.031*\"busi\" + 0.016*\"market\" + 0.008*\"compani\" + 0.006*\"success\" + 0.006*\"new\" + 0.005*\"work\" + 0.005*\"design\" + 0.005*\"invest\" + 0.005*\"real\" + 0.005*\"sale\"'),\n",
       " (5,\n",
       "  '0.022*\"ticket\" + 0.014*\"class\" + 0.008*\"includ\" + 0.008*\"park\" + 0.008*\"day\" + 0.007*\"avail\" + 0.007*\"game\" + 0.007*\"may\" + 0.006*\"pleas\" + 0.006*\"purchas\"'),\n",
       " (6,\n",
       "  '0.023*\"con\" + 0.017*\"el\" + 0.014*\"stoneheng\" + 0.012*\"de\" + 0.011*\"al\" + 0.009*\"para\" + 0.008*\"la\" + 0.006*\"su\" + 0.006*\"lo\" + 0.006*\"del\"'),\n",
       " (7,\n",
       "  '0.023*\"network\" + 0.016*\"event\" + 0.010*\"busi\" + 0.009*\"meet\" + 0.008*\"us\" + 0.008*\"join\" + 0.006*\"member\" + 0.006*\"pleas\" + 0.006*\"free\" + 0.005*\"opportun\"'),\n",
       " (8,\n",
       "  '0.023*\"golf\" + 0.010*\"registr\" + 0.008*\"gina\" + 0.008*\"tournament\" + 0.007*\"hole\" + 0.007*\"pin\" + 0.006*\"prize\" + 0.005*\"forest\" + 0.005*\"cours\" + 0.005*\"com\"'),\n",
       " (9,\n",
       "  '0.009*\"registr\" + 0.008*\"includ\" + 0.007*\"payment\" + 0.007*\"confer\" + 0.007*\"member\" + 0.007*\"fee\" + 0.006*\"pleas\" + 0.006*\"class\" + 0.006*\"train\" + 0.005*\"inform\"'),\n",
       " (10,\n",
       "  '0.016*\"music\" + 0.011*\"www\" + 0.011*\"com\" + 0.009*\"show\" + 0.009*\"event\" + 0.008*\"perform\" + 0.008*\"live\" + 0.007*\"danc\" + 0.006*\"band\" + 0.005*\"night\"'),\n",
       " (11,\n",
       "  '0.087*\"de\" + 0.033*\"le\" + 0.032*\"la\" + 0.024*\"et\" + 0.018*\"à\" + 0.018*\"en\" + 0.011*\"du\" + 0.011*\"pour\" + 0.010*\"un\" + 0.009*\"dan\"'),\n",
       " (12,\n",
       "  '0.019*\"race\" + 0.013*\"film\" + 0.012*\"com\" + 0.008*\"http\" + 0.008*\"www\" + 0.008*\"beer\" + 0.007*\"tour\" + 0.007*\"screen\" + 0.006*\"show\" + 0.005*\"brew\"'),\n",
       " (13,\n",
       "  '0.014*\"use\" + 0.013*\"cours\" + 0.013*\"learn\" + 0.011*\"workshop\" + 0.009*\"train\" + 0.009*\"manag\" + 0.008*\"develop\" + 0.008*\"session\" + 0.007*\"day\" + 0.006*\"busi\"'),\n",
       " (14,\n",
       "  '0.024*\"event\" + 0.015*\"pleas\" + 0.010*\"ticket\" + 0.008*\"class\" + 0.007*\"day\" + 0.007*\"make\" + 0.006*\"time\" + 0.006*\"us\" + 0.006*\"registr\" + 0.006*\"bring\"'),\n",
       " (15,\n",
       "  '0.009*\"univers\" + 0.008*\"develop\" + 0.008*\"student\" + 0.008*\"program\" + 0.008*\"work\" + 0.006*\"practic\" + 0.006*\"educ\" + 0.006*\"health\" + 0.006*\"school\" + 0.006*\"particip\"'),\n",
       " (16,\n",
       "  '0.011*\"chef\" + 0.011*\"dinner\" + 0.008*\"green\" + 0.007*\"join\" + 0.006*\"member\" + 0.006*\"salad\" + 0.006*\"chees\" + 0.006*\"pleas\" + 0.005*\"us\" + 0.005*\"chicken\"'),\n",
       " (17,\n",
       "  '0.009*\"life\" + 0.007*\"health\" + 0.007*\"commun\" + 0.006*\"help\" + 0.006*\"learn\" + 0.006*\"live\" + 0.005*\"support\" + 0.005*\"us\" + 0.005*\"peopl\" + 0.005*\"women\"'),\n",
       " (18,\n",
       "  '0.023*\"ride\" + 0.019*\"time\" + 0.013*\"ticket\" + 0.012*\"beach\" + 0.011*\"hors\" + 0.011*\"must\" + 0.008*\"pleas\" + 0.007*\"tour\" + 0.007*\"refund\" + 0.006*\"guid\"'),\n",
       " (19,\n",
       "  '0.033*\"art\" + 0.016*\"artist\" + 0.007*\"www\" + 0.007*\"food\" + 0.007*\"museum\" + 0.006*\"warwick\" + 0.006*\"contractor\" + 0.006*\"exhibit\" + 0.005*\"cultur\" + 0.005*\"gemma\"')]"
      ]
     },
     "execution_count": 43,
     "metadata": {},
     "output_type": "execute_result"
    }
   ],
   "source": [
    "lda.print_topics()"
   ]
  },
  {
   "cell_type": "code",
   "execution_count": 44,
   "metadata": {},
   "outputs": [],
   "source": [
    "# pyLDAvis.enable_notebook()\n",
    "# vis = pyLDAvis.gensim.prepare(lda, common_corpus, dictionary=common_dictionary)\n",
    "# vis"
   ]
  },
  {
   "cell_type": "code",
   "execution_count": 45,
   "metadata": {},
   "outputs": [
    {
     "data": {
      "text/plain": [
       "14337"
      ]
     },
     "execution_count": 45,
     "metadata": {},
     "output_type": "execute_result"
    }
   ],
   "source": [
    "len(common_corpus)"
   ]
  },
  {
   "cell_type": "code",
   "execution_count": 46,
   "metadata": {},
   "outputs": [],
   "source": [
    "topic_vectors = []\n",
    "for i in range(len(common_corpus)):\n",
    "    topic_vectors.append(lda[common_corpus[i]])"
   ]
  },
  {
   "cell_type": "code",
   "execution_count": 47,
   "metadata": {},
   "outputs": [
    {
     "data": {
      "text/plain": [
       "[(1, 0.010340404),\n",
       " (2, 0.05659551),\n",
       " (3, 0.56058043),\n",
       " (5, 0.18290758),\n",
       " (10, 0.1409692),\n",
       " (14, 0.014490829),\n",
       " (18, 0.029525438)]"
      ]
     },
     "execution_count": 47,
     "metadata": {},
     "output_type": "execute_result"
    }
   ],
   "source": [
    "topic_vectors[0]"
   ]
  },
  {
   "cell_type": "code",
   "execution_count": 48,
   "metadata": {},
   "outputs": [],
   "source": [
    "zero_data = np.zeros(shape = (len(topic_vectors),20))"
   ]
  },
  {
   "cell_type": "code",
   "execution_count": 49,
   "metadata": {},
   "outputs": [
    {
     "data": {
      "text/plain": [
       "(14337, 20)"
      ]
     },
     "execution_count": 49,
     "metadata": {},
     "output_type": "execute_result"
    }
   ],
   "source": [
    "zero_data.shape"
   ]
  },
  {
   "cell_type": "code",
   "execution_count": 50,
   "metadata": {},
   "outputs": [],
   "source": [
    "df_vector = pd.DataFrame(zero_data, columns=['0','1','2','3','4','5','6','7','8','9','10','11','12','13','14','15','16','17','18','19'])"
   ]
  },
  {
   "cell_type": "code",
   "execution_count": 51,
   "metadata": {},
   "outputs": [],
   "source": [
    "for i in range(len(common_corpus)):\n",
    "    for j in range(len(topic_vectors[i])):\n",
    "        df_vector.iloc[i][str(topic_vectors[i][j][0])] = topic_vectors[i][j][1]"
   ]
  },
  {
   "cell_type": "code",
   "execution_count": 52,
   "metadata": {},
   "outputs": [
    {
     "data": {
      "text/plain": [
       "[(5, 0.28612447),\n",
       " (9, 0.16947967),\n",
       " (12, 0.042792868),\n",
       " (14, 0.3236623),\n",
       " (15, 0.09152964),\n",
       " (17, 0.083673574)]"
      ]
     },
     "execution_count": 52,
     "metadata": {},
     "output_type": "execute_result"
    }
   ],
   "source": [
    "topic_vectors[1]"
   ]
  },
  {
   "cell_type": "code",
   "execution_count": 53,
   "metadata": {},
   "outputs": [],
   "source": [
    "df_vector['fraud'] = df['acct_type']"
   ]
  },
  {
   "cell_type": "code",
   "execution_count": 54,
   "metadata": {},
   "outputs": [],
   "source": [
    "lda_vector = df_vector"
   ]
  },
  {
   "cell_type": "code",
   "execution_count": 55,
   "metadata": {},
   "outputs": [
    {
     "data": {
      "text/html": [
       "<div>\n",
       "<style scoped>\n",
       "    .dataframe tbody tr th:only-of-type {\n",
       "        vertical-align: middle;\n",
       "    }\n",
       "\n",
       "    .dataframe tbody tr th {\n",
       "        vertical-align: top;\n",
       "    }\n",
       "\n",
       "    .dataframe thead th {\n",
       "        text-align: right;\n",
       "    }\n",
       "</style>\n",
       "<table border=\"1\" class=\"dataframe\">\n",
       "  <thead>\n",
       "    <tr style=\"text-align: right;\">\n",
       "      <th></th>\n",
       "      <th>0</th>\n",
       "      <th>1</th>\n",
       "      <th>2</th>\n",
       "      <th>3</th>\n",
       "      <th>4</th>\n",
       "      <th>5</th>\n",
       "      <th>6</th>\n",
       "      <th>7</th>\n",
       "      <th>8</th>\n",
       "      <th>9</th>\n",
       "      <th>...</th>\n",
       "      <th>11</th>\n",
       "      <th>12</th>\n",
       "      <th>13</th>\n",
       "      <th>14</th>\n",
       "      <th>15</th>\n",
       "      <th>16</th>\n",
       "      <th>17</th>\n",
       "      <th>18</th>\n",
       "      <th>19</th>\n",
       "      <th>fraud</th>\n",
       "    </tr>\n",
       "  </thead>\n",
       "  <tbody>\n",
       "    <tr>\n",
       "      <th>0</th>\n",
       "      <td>0.000000</td>\n",
       "      <td>0.01034</td>\n",
       "      <td>0.056596</td>\n",
       "      <td>0.560580</td>\n",
       "      <td>0.000000</td>\n",
       "      <td>0.182908</td>\n",
       "      <td>0.000000</td>\n",
       "      <td>0.000000</td>\n",
       "      <td>0.000000</td>\n",
       "      <td>0.000000</td>\n",
       "      <td>...</td>\n",
       "      <td>0.000000</td>\n",
       "      <td>0.000000</td>\n",
       "      <td>0.000000</td>\n",
       "      <td>0.014491</td>\n",
       "      <td>0.000000</td>\n",
       "      <td>0.000000</td>\n",
       "      <td>0.000000</td>\n",
       "      <td>0.029525</td>\n",
       "      <td>0.000000</td>\n",
       "      <td>1</td>\n",
       "    </tr>\n",
       "    <tr>\n",
       "      <th>1</th>\n",
       "      <td>0.000000</td>\n",
       "      <td>0.00000</td>\n",
       "      <td>0.000000</td>\n",
       "      <td>0.000000</td>\n",
       "      <td>0.000000</td>\n",
       "      <td>0.286124</td>\n",
       "      <td>0.000000</td>\n",
       "      <td>0.000000</td>\n",
       "      <td>0.000000</td>\n",
       "      <td>0.169480</td>\n",
       "      <td>...</td>\n",
       "      <td>0.000000</td>\n",
       "      <td>0.042793</td>\n",
       "      <td>0.000000</td>\n",
       "      <td>0.323662</td>\n",
       "      <td>0.091530</td>\n",
       "      <td>0.000000</td>\n",
       "      <td>0.083674</td>\n",
       "      <td>0.000000</td>\n",
       "      <td>0.000000</td>\n",
       "      <td>0</td>\n",
       "    </tr>\n",
       "    <tr>\n",
       "      <th>2</th>\n",
       "      <td>0.000000</td>\n",
       "      <td>0.00000</td>\n",
       "      <td>0.000000</td>\n",
       "      <td>0.000000</td>\n",
       "      <td>0.000000</td>\n",
       "      <td>0.000000</td>\n",
       "      <td>0.000000</td>\n",
       "      <td>0.000000</td>\n",
       "      <td>0.000000</td>\n",
       "      <td>0.173633</td>\n",
       "      <td>...</td>\n",
       "      <td>0.000000</td>\n",
       "      <td>0.000000</td>\n",
       "      <td>0.343801</td>\n",
       "      <td>0.000000</td>\n",
       "      <td>0.077333</td>\n",
       "      <td>0.000000</td>\n",
       "      <td>0.000000</td>\n",
       "      <td>0.399597</td>\n",
       "      <td>0.000000</td>\n",
       "      <td>0</td>\n",
       "    </tr>\n",
       "    <tr>\n",
       "      <th>3</th>\n",
       "      <td>0.000000</td>\n",
       "      <td>0.00000</td>\n",
       "      <td>0.000000</td>\n",
       "      <td>0.000000</td>\n",
       "      <td>0.134469</td>\n",
       "      <td>0.125702</td>\n",
       "      <td>0.000000</td>\n",
       "      <td>0.000000</td>\n",
       "      <td>0.074433</td>\n",
       "      <td>0.000000</td>\n",
       "      <td>...</td>\n",
       "      <td>0.000000</td>\n",
       "      <td>0.036156</td>\n",
       "      <td>0.189901</td>\n",
       "      <td>0.000000</td>\n",
       "      <td>0.387554</td>\n",
       "      <td>0.000000</td>\n",
       "      <td>0.000000</td>\n",
       "      <td>0.000000</td>\n",
       "      <td>0.040882</td>\n",
       "      <td>0</td>\n",
       "    </tr>\n",
       "    <tr>\n",
       "      <th>4</th>\n",
       "      <td>0.000000</td>\n",
       "      <td>0.00000</td>\n",
       "      <td>0.383560</td>\n",
       "      <td>0.000000</td>\n",
       "      <td>0.266792</td>\n",
       "      <td>0.000000</td>\n",
       "      <td>0.000000</td>\n",
       "      <td>0.000000</td>\n",
       "      <td>0.000000</td>\n",
       "      <td>0.000000</td>\n",
       "      <td>...</td>\n",
       "      <td>0.000000</td>\n",
       "      <td>0.000000</td>\n",
       "      <td>0.093875</td>\n",
       "      <td>0.000000</td>\n",
       "      <td>0.236540</td>\n",
       "      <td>0.000000</td>\n",
       "      <td>0.000000</td>\n",
       "      <td>0.000000</td>\n",
       "      <td>0.000000</td>\n",
       "      <td>0</td>\n",
       "    </tr>\n",
       "    <tr>\n",
       "      <th>...</th>\n",
       "      <td>...</td>\n",
       "      <td>...</td>\n",
       "      <td>...</td>\n",
       "      <td>...</td>\n",
       "      <td>...</td>\n",
       "      <td>...</td>\n",
       "      <td>...</td>\n",
       "      <td>...</td>\n",
       "      <td>...</td>\n",
       "      <td>...</td>\n",
       "      <td>...</td>\n",
       "      <td>...</td>\n",
       "      <td>...</td>\n",
       "      <td>...</td>\n",
       "      <td>...</td>\n",
       "      <td>...</td>\n",
       "      <td>...</td>\n",
       "      <td>...</td>\n",
       "      <td>...</td>\n",
       "      <td>...</td>\n",
       "      <td>...</td>\n",
       "    </tr>\n",
       "    <tr>\n",
       "      <th>14332</th>\n",
       "      <td>0.000000</td>\n",
       "      <td>0.00000</td>\n",
       "      <td>0.000000</td>\n",
       "      <td>0.519928</td>\n",
       "      <td>0.000000</td>\n",
       "      <td>0.000000</td>\n",
       "      <td>0.000000</td>\n",
       "      <td>0.000000</td>\n",
       "      <td>0.023618</td>\n",
       "      <td>0.000000</td>\n",
       "      <td>...</td>\n",
       "      <td>0.000000</td>\n",
       "      <td>0.000000</td>\n",
       "      <td>0.000000</td>\n",
       "      <td>0.000000</td>\n",
       "      <td>0.036781</td>\n",
       "      <td>0.050329</td>\n",
       "      <td>0.000000</td>\n",
       "      <td>0.000000</td>\n",
       "      <td>0.000000</td>\n",
       "      <td>1</td>\n",
       "    </tr>\n",
       "    <tr>\n",
       "      <th>14333</th>\n",
       "      <td>0.000000</td>\n",
       "      <td>0.00000</td>\n",
       "      <td>0.000000</td>\n",
       "      <td>0.000000</td>\n",
       "      <td>0.000000</td>\n",
       "      <td>0.027984</td>\n",
       "      <td>0.000000</td>\n",
       "      <td>0.343980</td>\n",
       "      <td>0.000000</td>\n",
       "      <td>0.000000</td>\n",
       "      <td>...</td>\n",
       "      <td>0.000000</td>\n",
       "      <td>0.000000</td>\n",
       "      <td>0.000000</td>\n",
       "      <td>0.000000</td>\n",
       "      <td>0.415083</td>\n",
       "      <td>0.074619</td>\n",
       "      <td>0.118166</td>\n",
       "      <td>0.000000</td>\n",
       "      <td>0.000000</td>\n",
       "      <td>0</td>\n",
       "    </tr>\n",
       "    <tr>\n",
       "      <th>14334</th>\n",
       "      <td>0.255455</td>\n",
       "      <td>0.00000</td>\n",
       "      <td>0.000000</td>\n",
       "      <td>0.362896</td>\n",
       "      <td>0.000000</td>\n",
       "      <td>0.000000</td>\n",
       "      <td>0.000000</td>\n",
       "      <td>0.000000</td>\n",
       "      <td>0.000000</td>\n",
       "      <td>0.000000</td>\n",
       "      <td>...</td>\n",
       "      <td>0.000000</td>\n",
       "      <td>0.035336</td>\n",
       "      <td>0.000000</td>\n",
       "      <td>0.000000</td>\n",
       "      <td>0.000000</td>\n",
       "      <td>0.000000</td>\n",
       "      <td>0.000000</td>\n",
       "      <td>0.000000</td>\n",
       "      <td>0.000000</td>\n",
       "      <td>0</td>\n",
       "    </tr>\n",
       "    <tr>\n",
       "      <th>14335</th>\n",
       "      <td>0.000000</td>\n",
       "      <td>0.00000</td>\n",
       "      <td>0.000000</td>\n",
       "      <td>0.205394</td>\n",
       "      <td>0.000000</td>\n",
       "      <td>0.084745</td>\n",
       "      <td>0.112756</td>\n",
       "      <td>0.052622</td>\n",
       "      <td>0.000000</td>\n",
       "      <td>0.000000</td>\n",
       "      <td>...</td>\n",
       "      <td>0.029956</td>\n",
       "      <td>0.000000</td>\n",
       "      <td>0.000000</td>\n",
       "      <td>0.000000</td>\n",
       "      <td>0.000000</td>\n",
       "      <td>0.336851</td>\n",
       "      <td>0.000000</td>\n",
       "      <td>0.013477</td>\n",
       "      <td>0.000000</td>\n",
       "      <td>0</td>\n",
       "    </tr>\n",
       "    <tr>\n",
       "      <th>14336</th>\n",
       "      <td>0.050000</td>\n",
       "      <td>0.05000</td>\n",
       "      <td>0.050000</td>\n",
       "      <td>0.050000</td>\n",
       "      <td>0.050000</td>\n",
       "      <td>0.050000</td>\n",
       "      <td>0.050000</td>\n",
       "      <td>0.050000</td>\n",
       "      <td>0.050000</td>\n",
       "      <td>0.050000</td>\n",
       "      <td>...</td>\n",
       "      <td>0.050000</td>\n",
       "      <td>0.050000</td>\n",
       "      <td>0.050000</td>\n",
       "      <td>0.050000</td>\n",
       "      <td>0.050000</td>\n",
       "      <td>0.050000</td>\n",
       "      <td>0.050000</td>\n",
       "      <td>0.050000</td>\n",
       "      <td>0.050000</td>\n",
       "      <td>1</td>\n",
       "    </tr>\n",
       "  </tbody>\n",
       "</table>\n",
       "<p>14337 rows × 21 columns</p>\n",
       "</div>"
      ],
      "text/plain": [
       "              0        1         2         3         4         5         6  \\\n",
       "0      0.000000  0.01034  0.056596  0.560580  0.000000  0.182908  0.000000   \n",
       "1      0.000000  0.00000  0.000000  0.000000  0.000000  0.286124  0.000000   \n",
       "2      0.000000  0.00000  0.000000  0.000000  0.000000  0.000000  0.000000   \n",
       "3      0.000000  0.00000  0.000000  0.000000  0.134469  0.125702  0.000000   \n",
       "4      0.000000  0.00000  0.383560  0.000000  0.266792  0.000000  0.000000   \n",
       "...         ...      ...       ...       ...       ...       ...       ...   \n",
       "14332  0.000000  0.00000  0.000000  0.519928  0.000000  0.000000  0.000000   \n",
       "14333  0.000000  0.00000  0.000000  0.000000  0.000000  0.027984  0.000000   \n",
       "14334  0.255455  0.00000  0.000000  0.362896  0.000000  0.000000  0.000000   \n",
       "14335  0.000000  0.00000  0.000000  0.205394  0.000000  0.084745  0.112756   \n",
       "14336  0.050000  0.05000  0.050000  0.050000  0.050000  0.050000  0.050000   \n",
       "\n",
       "              7         8         9  ...        11        12        13  \\\n",
       "0      0.000000  0.000000  0.000000  ...  0.000000  0.000000  0.000000   \n",
       "1      0.000000  0.000000  0.169480  ...  0.000000  0.042793  0.000000   \n",
       "2      0.000000  0.000000  0.173633  ...  0.000000  0.000000  0.343801   \n",
       "3      0.000000  0.074433  0.000000  ...  0.000000  0.036156  0.189901   \n",
       "4      0.000000  0.000000  0.000000  ...  0.000000  0.000000  0.093875   \n",
       "...         ...       ...       ...  ...       ...       ...       ...   \n",
       "14332  0.000000  0.023618  0.000000  ...  0.000000  0.000000  0.000000   \n",
       "14333  0.343980  0.000000  0.000000  ...  0.000000  0.000000  0.000000   \n",
       "14334  0.000000  0.000000  0.000000  ...  0.000000  0.035336  0.000000   \n",
       "14335  0.052622  0.000000  0.000000  ...  0.029956  0.000000  0.000000   \n",
       "14336  0.050000  0.050000  0.050000  ...  0.050000  0.050000  0.050000   \n",
       "\n",
       "             14        15        16        17        18        19  fraud  \n",
       "0      0.014491  0.000000  0.000000  0.000000  0.029525  0.000000      1  \n",
       "1      0.323662  0.091530  0.000000  0.083674  0.000000  0.000000      0  \n",
       "2      0.000000  0.077333  0.000000  0.000000  0.399597  0.000000      0  \n",
       "3      0.000000  0.387554  0.000000  0.000000  0.000000  0.040882      0  \n",
       "4      0.000000  0.236540  0.000000  0.000000  0.000000  0.000000      0  \n",
       "...         ...       ...       ...       ...       ...       ...    ...  \n",
       "14332  0.000000  0.036781  0.050329  0.000000  0.000000  0.000000      1  \n",
       "14333  0.000000  0.415083  0.074619  0.118166  0.000000  0.000000      0  \n",
       "14334  0.000000  0.000000  0.000000  0.000000  0.000000  0.000000      0  \n",
       "14335  0.000000  0.000000  0.336851  0.000000  0.013477  0.000000      0  \n",
       "14336  0.050000  0.050000  0.050000  0.050000  0.050000  0.050000      1  \n",
       "\n",
       "[14337 rows x 21 columns]"
      ]
     },
     "execution_count": 55,
     "metadata": {},
     "output_type": "execute_result"
    }
   ],
   "source": [
    "lda_vector"
   ]
  },
  {
   "cell_type": "code",
   "execution_count": 56,
   "metadata": {},
   "outputs": [
    {
     "data": {
      "text/html": [
       "<div>\n",
       "<style scoped>\n",
       "    .dataframe tbody tr th:only-of-type {\n",
       "        vertical-align: middle;\n",
       "    }\n",
       "\n",
       "    .dataframe tbody tr th {\n",
       "        vertical-align: top;\n",
       "    }\n",
       "\n",
       "    .dataframe thead th {\n",
       "        text-align: right;\n",
       "    }\n",
       "</style>\n",
       "<table border=\"1\" class=\"dataframe\">\n",
       "  <thead>\n",
       "    <tr style=\"text-align: right;\">\n",
       "      <th></th>\n",
       "      <th>0</th>\n",
       "      <th>1</th>\n",
       "      <th>2</th>\n",
       "      <th>3</th>\n",
       "      <th>4</th>\n",
       "      <th>5</th>\n",
       "      <th>6</th>\n",
       "      <th>7</th>\n",
       "      <th>8</th>\n",
       "      <th>9</th>\n",
       "      <th>10</th>\n",
       "      <th>11</th>\n",
       "      <th>12</th>\n",
       "      <th>13</th>\n",
       "      <th>14</th>\n",
       "      <th>15</th>\n",
       "      <th>16</th>\n",
       "      <th>17</th>\n",
       "      <th>18</th>\n",
       "      <th>19</th>\n",
       "    </tr>\n",
       "    <tr>\n",
       "      <th>fraud</th>\n",
       "      <th></th>\n",
       "      <th></th>\n",
       "      <th></th>\n",
       "      <th></th>\n",
       "      <th></th>\n",
       "      <th></th>\n",
       "      <th></th>\n",
       "      <th></th>\n",
       "      <th></th>\n",
       "      <th></th>\n",
       "      <th></th>\n",
       "      <th></th>\n",
       "      <th></th>\n",
       "      <th></th>\n",
       "      <th></th>\n",
       "      <th></th>\n",
       "      <th></th>\n",
       "      <th></th>\n",
       "      <th></th>\n",
       "      <th></th>\n",
       "    </tr>\n",
       "  </thead>\n",
       "  <tbody>\n",
       "    <tr>\n",
       "      <th>0</th>\n",
       "      <td>0.056612</td>\n",
       "      <td>0.014399</td>\n",
       "      <td>0.038889</td>\n",
       "      <td>0.098803</td>\n",
       "      <td>0.057531</td>\n",
       "      <td>0.069580</td>\n",
       "      <td>0.006949</td>\n",
       "      <td>0.050650</td>\n",
       "      <td>0.010707</td>\n",
       "      <td>0.051206</td>\n",
       "      <td>0.107655</td>\n",
       "      <td>0.017931</td>\n",
       "      <td>0.032145</td>\n",
       "      <td>0.078647</td>\n",
       "      <td>0.089913</td>\n",
       "      <td>0.054937</td>\n",
       "      <td>0.031408</td>\n",
       "      <td>0.084072</td>\n",
       "      <td>0.018864</td>\n",
       "      <td>0.014527</td>\n",
       "    </tr>\n",
       "    <tr>\n",
       "      <th>1</th>\n",
       "      <td>0.045519</td>\n",
       "      <td>0.020204</td>\n",
       "      <td>0.048862</td>\n",
       "      <td>0.137073</td>\n",
       "      <td>0.044574</td>\n",
       "      <td>0.056436</td>\n",
       "      <td>0.017085</td>\n",
       "      <td>0.045045</td>\n",
       "      <td>0.018241</td>\n",
       "      <td>0.043152</td>\n",
       "      <td>0.128049</td>\n",
       "      <td>0.051504</td>\n",
       "      <td>0.029701</td>\n",
       "      <td>0.066463</td>\n",
       "      <td>0.060502</td>\n",
       "      <td>0.034987</td>\n",
       "      <td>0.027298</td>\n",
       "      <td>0.053945</td>\n",
       "      <td>0.028932</td>\n",
       "      <td>0.021766</td>\n",
       "    </tr>\n",
       "  </tbody>\n",
       "</table>\n",
       "</div>"
      ],
      "text/plain": [
       "              0         1         2         3         4         5         6  \\\n",
       "fraud                                                                         \n",
       "0      0.056612  0.014399  0.038889  0.098803  0.057531  0.069580  0.006949   \n",
       "1      0.045519  0.020204  0.048862  0.137073  0.044574  0.056436  0.017085   \n",
       "\n",
       "              7         8         9        10        11        12        13  \\\n",
       "fraud                                                                         \n",
       "0      0.050650  0.010707  0.051206  0.107655  0.017931  0.032145  0.078647   \n",
       "1      0.045045  0.018241  0.043152  0.128049  0.051504  0.029701  0.066463   \n",
       "\n",
       "             14        15        16        17        18        19  \n",
       "fraud                                                              \n",
       "0      0.089913  0.054937  0.031408  0.084072  0.018864  0.014527  \n",
       "1      0.060502  0.034987  0.027298  0.053945  0.028932  0.021766  "
      ]
     },
     "execution_count": 56,
     "metadata": {},
     "output_type": "execute_result"
    }
   ],
   "source": [
    "ave = lda_vector.groupby('fraud').mean()\n",
    "ave"
   ]
  },
  {
   "cell_type": "code",
   "execution_count": 57,
   "metadata": {},
   "outputs": [],
   "source": [
    "ave['fraud'] = [0,1]"
   ]
  },
  {
   "cell_type": "markdown",
   "metadata": {},
   "source": [
    "## LDA_RandomForest"
   ]
  },
  {
   "cell_type": "code",
   "execution_count": 58,
   "metadata": {},
   "outputs": [],
   "source": [
    "# Since it's imbalanced data, resample fraud == 1 "
   ]
  },
  {
   "cell_type": "code",
   "execution_count": 59,
   "metadata": {},
   "outputs": [],
   "source": [
    "X = lda_vector.drop(columns=['fraud'])"
   ]
  },
  {
   "cell_type": "code",
   "execution_count": 60,
   "metadata": {},
   "outputs": [],
   "source": [
    "y = lda_vector.fraud"
   ]
  },
  {
   "cell_type": "code",
   "execution_count": 61,
   "metadata": {},
   "outputs": [],
   "source": [
    "# Train/Test Split"
   ]
  },
  {
   "cell_type": "code",
   "execution_count": 62,
   "metadata": {},
   "outputs": [],
   "source": [
    "X_train, X_test, y_train, y_test = train_test_split(X,y, stratify=y, shuffle=True, random_state=4)"
   ]
  },
  {
   "cell_type": "code",
   "execution_count": 63,
   "metadata": {},
   "outputs": [],
   "source": [
    "sm = SMOTE()\n",
    "X_train,y_train = sm.fit_resample(X_train, y_train)"
   ]
  },
  {
   "cell_type": "code",
   "execution_count": 64,
   "metadata": {},
   "outputs": [],
   "source": [
    "whole = pd.concat([X_train, y_train], axis=1)"
   ]
  },
  {
   "cell_type": "code",
   "execution_count": 65,
   "metadata": {},
   "outputs": [],
   "source": [
    "whole.fraud = whole.fraud.astype('str')"
   ]
  },
  {
   "cell_type": "code",
   "execution_count": 66,
   "metadata": {},
   "outputs": [
    {
     "name": "stderr",
     "output_type": "stream",
     "text": [
      "/Users/hyorimlee/opt/anaconda3/lib/python3.7/site-packages/ipykernel_launcher.py:1: SettingWithCopyWarning: \n",
      "A value is trying to be set on a copy of a slice from a DataFrame\n",
      "\n",
      "See the caveats in the documentation: https://pandas.pydata.org/pandas-docs/stable/user_guide/indexing.html#returning-a-view-versus-a-copy\n",
      "  \"\"\"Entry point for launching an IPython kernel.\n"
     ]
    }
   ],
   "source": [
    "whole.fraud[whole.fraud == '1'] = 'Fraud'"
   ]
  },
  {
   "cell_type": "code",
   "execution_count": 67,
   "metadata": {},
   "outputs": [
    {
     "name": "stderr",
     "output_type": "stream",
     "text": [
      "/Users/hyorimlee/opt/anaconda3/lib/python3.7/site-packages/ipykernel_launcher.py:1: SettingWithCopyWarning: \n",
      "A value is trying to be set on a copy of a slice from a DataFrame\n",
      "\n",
      "See the caveats in the documentation: https://pandas.pydata.org/pandas-docs/stable/user_guide/indexing.html#returning-a-view-versus-a-copy\n",
      "  \"\"\"Entry point for launching an IPython kernel.\n"
     ]
    }
   ],
   "source": [
    "whole.fraud[whole.fraud == '0'] = 'Not Fraud'"
   ]
  },
  {
   "cell_type": "code",
   "execution_count": 68,
   "metadata": {},
   "outputs": [
    {
     "data": {
      "image/png": "[encoded data removed]",
      "text/plain": [
       "<Figure size 432x288 with 1 Axes>"
      ]
     },
     "metadata": {
      "needs_background": "light"
     },
     "output_type": "display_data"
    }
   ],
   "source": [
    "fig = pd.plotting.parallel_coordinates(whole,'fraud' , color=('#FFE888', '#FF9999'))\n",
    "plt.savefig('img/lda_dimensions')"
   ]
  },
  {
   "cell_type": "code",
   "execution_count": 69,
   "metadata": {},
   "outputs": [
    {
     "data": {
      "text/plain": [
       "Int64Index([0, 1], dtype='int64', name='fraud')"
      ]
     },
     "execution_count": 69,
     "metadata": {},
     "output_type": "execute_result"
    }
   ],
   "source": [
    "ave.index"
   ]
  },
  {
   "cell_type": "code",
   "execution_count": 70,
   "metadata": {},
   "outputs": [
    {
     "data": {
      "image/png": "[encoded data removed]",
      "text/plain": [
       "<Figure size 432x288 with 1 Axes>"
      ]
     },
     "metadata": {
      "needs_background": "light"
     },
     "output_type": "display_data"
    }
   ],
   "source": [
    "fig = pd.plotting.parallel_coordinates(ave, 'fraud' ,color=('black', 'red'))\n",
    "plt.savefig('img/mean_lda')"
   ]
  },
  {
   "cell_type": "code",
   "execution_count": 72,
   "metadata": {},
   "outputs": [],
   "source": [
    "sm = SMOTE()"
   ]
  },
  {
   "cell_type": "code",
   "execution_count": 73,
   "metadata": {},
   "outputs": [],
   "source": [
    "X_train, y_train = sm.fit_sample(X_train,y_train.ravel())"
   ]
  },
  {
   "cell_type": "code",
   "execution_count": 74,
   "metadata": {},
   "outputs": [],
   "source": [
    "lda_forest = RandomForestClassifier()"
   ]
  },
  {
   "cell_type": "code",
   "execution_count": 75,
   "metadata": {},
   "outputs": [
    {
     "data": {
      "text/plain": [
       "RandomForestClassifier()"
      ]
     },
     "execution_count": 75,
     "metadata": {},
     "output_type": "execute_result"
    }
   ],
   "source": [
    "lda_forest.fit(X_train, y_train)"
   ]
  },
  {
   "cell_type": "code",
   "execution_count": 76,
   "metadata": {},
   "outputs": [
    {
     "data": {
      "text/plain": [
       "0.9241494535373518"
      ]
     },
     "execution_count": 76,
     "metadata": {},
     "output_type": "execute_result"
    }
   ],
   "source": [
    "cross_val_score(lda_forest,X_train,y_train, cv=10).mean()"
   ]
  },
  {
   "cell_type": "code",
   "execution_count": 77,
   "metadata": {},
   "outputs": [
    {
     "name": "stdout",
     "output_type": "stream",
     "text": [
      "0.4953560371517028\n"
     ]
    }
   ],
   "source": [
    "# Recall Score\n",
    "preds = lda_forest.predict(X_test)\n",
    "print(recall_score(y_test, preds))"
   ]
  },
  {
   "cell_type": "code",
   "execution_count": 78,
   "metadata": {},
   "outputs": [],
   "source": [
    "# #ridSearch to try out different params\n",
    "\n",
    "# estimators = np.arange(100, 120, 1)\n",
    "# num_samples_param = np.arange(5,95,10)\n",
    "# parameters = {'n_estimators' : estimators}\n",
    "# clf = GridSearchCV(lda_forest, parameters, cv=10, n_jobs=-1)\n",
    "# clf.fit(X_train,y_train)\n",
    "# print('Accuracy score: {:.3}'.format(clf.score(X_test, y_test)))"
   ]
  },
  {
   "cell_type": "code",
   "execution_count": 79,
   "metadata": {},
   "outputs": [
    {
     "data": {
      "text/plain": [
       "0.4953560371517028"
      ]
     },
     "execution_count": 79,
     "metadata": {},
     "output_type": "execute_result"
    }
   ],
   "source": [
    "preds = lda_forest.predict(X_test)\n",
    "recall_score(y_test,preds)"
   ]
  },
  {
   "cell_type": "code",
   "execution_count": 80,
   "metadata": {},
   "outputs": [
    {
     "data": {
      "text/plain": [
       "array([[2924,  338],\n",
       "       [ 163,  160]])"
      ]
     },
     "execution_count": 80,
     "metadata": {},
     "output_type": "execute_result"
    }
   ],
   "source": [
    "# Get and reshape confusion matrix data\n",
    "matrix = confusion_matrix(y_test, preds)\n",
    "#matrix = matrix.astype('float') / matrix.sum(axis=1)[:, np.newaxis]\n",
    "matrix"
   ]
  },
  {
   "cell_type": "code",
   "execution_count": 81,
   "metadata": {},
   "outputs": [],
   "source": [
    "# # Build the plot\n",
    "# plt.figure(figsize=(16,7))\n",
    "# sns.set(font_scale=1.4)\n",
    "# sns.heatmap(matrix, annot=True, annot_kws={'size':15},\n",
    "#             cmap=plt.cm.Reds, linewidths=0.2)\n",
    "\n",
    "# # Add labels to the plot\n",
    "# class_names = ['Not Fraud', 'Fraud']\n",
    "# tick_marks = np.arange(len(class_names))\n",
    "# tick_marks2 = tick_marks + 0.5\n",
    "# plt.xticks(tick_marks+.5, class_names, rotation=0)\n",
    "# plt.yticks(tick_marks2 , class_names, rotation=0)\n",
    "# plt.xlabel('PREDICTED')\n",
    "# plt.ylabel('TRUE')\n",
    "# plt.title('Confusion Matrix for Random Forest Model Based on LDA Vector')\n",
    "# plt.savefig('img/confusion_lda2.jpg')\n",
    "# plt.show()"
   ]
  },
  {
   "cell_type": "code",
   "execution_count": 82,
   "metadata": {},
   "outputs": [
    {
     "data": {
      "image/png": "[encoded data removed]",
      "text/plain": [
       "<Figure size 1152x504 with 2 Axes>"
      ]
     },
     "metadata": {
      "needs_background": "light"
     },
     "output_type": "display_data"
    }
   ],
   "source": [
    "# Build the plot\n",
    "plt.figure(figsize=(16,7))\n",
    "labels = [0,1]\n",
    "accuracy = accuracy_score(preds, y_test)\n",
    "precision = precision_score(preds, y_test, labels=labels, average = 'macro')\n",
    "recall = recall_score(preds, y_test, labels=labels, average = 'macro')\n",
    "f1 = f1_score(preds, y_test, labels=labels, average = 'macro')\n",
    "group_counts = [\"{0:0.0f}\\n\".format(value) for value in matrix .flatten()]\n",
    "group_percentages = [\"{0:.2%}\".format(value) for value in matrix .flatten()/np.sum(matrix)]\n",
    "\n",
    "box_labels = [f\"{v1}{v2}\".strip() for v1, v2 in zip(group_counts,group_percentages)]\n",
    "box_labels = np.asarray(box_labels).reshape(matrix .shape[0],matrix .shape[1])\n",
    "\n",
    "\n",
    "sns.set(font_scale=1.4)\n",
    "\n",
    "sns.heatmap(matrix , annot=box_labels, fmt='', cmap='GnBu',\n",
    "            xticklabels=['Fraud', 'Not Fraud'],yticklabels=['Fraud', 'Not Fraud'])\n",
    "\n",
    "# sns.heatmap(matrix, annot=True, annot_kws={'size':15},\n",
    "#             cmap=plt.cm.Reds, linewidths=0.2)\n",
    "\n",
    "\n",
    "\n",
    "# Add labels to the plot\n",
    "class_names = ['Not Fraud', 'Fraud']\n",
    "tick_marks = np.arange(len(class_names))\n",
    "tick_marks2 = tick_marks + 0.5\n",
    "plt.xticks(tick_marks+.5, class_names, rotation=0)\n",
    "plt.yticks(tick_marks2 , class_names, rotation=0)\n",
    "plt.xlabel('PREDICTED')\n",
    "plt.ylabel('TRUE')\n",
    "plt.title('Accuracy: {:.2%}, Precision: {:.2%}, Recall: {:.2%}, F-1 Score: {:.2%} \\n({} Test Values)'.format(accuracy,precision, recall, f1, len(y_test)))\n",
    "plt.savefig('img/confusion_lda2.jpg')\n",
    "plt.show()"
   ]
  },
  {
   "cell_type": "code",
   "execution_count": 83,
   "metadata": {},
   "outputs": [
    {
     "data": {
      "text/plain": [
       "array([[8.0167665e-05, 2.3991366e-04, 2.9880517e-05, ..., 4.5281425e-07,\n",
       "        4.5281425e-07, 4.5281115e-07],\n",
       "       [1.0328137e-04, 3.1838473e-03, 3.0030066e-04, ..., 2.8162913e-06,\n",
       "        2.8162913e-06, 2.8162913e-06],\n",
       "       [6.8807061e-04, 1.9064096e-03, 2.7749993e-04, ..., 8.0507220e-07,\n",
       "        8.0507220e-07, 8.0507243e-07],\n",
       "       ...,\n",
       "       [2.4367368e-04, 4.9764531e-05, 4.6013392e-05, ..., 3.1881987e-07,\n",
       "        3.1881987e-07, 3.1881987e-07],\n",
       "       [8.0921709e-05, 4.5290537e-05, 1.5861496e-04, ..., 1.0756362e-06,\n",
       "        1.0756362e-06, 1.0756373e-06],\n",
       "       [1.7110852e-04, 1.6184300e-02, 3.6622139e-05, ..., 2.4004130e-06,\n",
       "        2.4004130e-06, 2.4004130e-06]], dtype=float32)"
      ]
     },
     "execution_count": 83,
     "metadata": {},
     "output_type": "execute_result"
    }
   ],
   "source": [
    "lda.get_topics()"
   ]
  },
  {
   "cell_type": "code",
   "execution_count": 84,
   "metadata": {},
   "outputs": [
    {
     "data": {
      "text/plain": [
       "[('new', 0.008268269),\n",
       " ('commun', 0.0063485387),\n",
       " ('event', 0.0061623105),\n",
       " ('social', 0.0061280676),\n",
       " ('get', 0.0058599096),\n",
       " ('busi', 0.0054829326),\n",
       " ('make', 0.0052011963),\n",
       " ('help', 0.004864469),\n",
       " ('peopl', 0.0048591495),\n",
       " ('startup', 0.0047900295)]"
      ]
     },
     "execution_count": 84,
     "metadata": {},
     "output_type": "execute_result"
    }
   ],
   "source": [
    "lda.show_topic(0)"
   ]
  },
  {
   "cell_type": "code",
   "execution_count": 85,
   "metadata": {},
   "outputs": [
    {
     "data": {
      "text/plain": [
       "-9.65753131917649"
      ]
     },
     "execution_count": 85,
     "metadata": {},
     "output_type": "execute_result"
    }
   ],
   "source": [
    "#perplexity score (how good the model is, lower is better )\n",
    "lda.log_perplexity(common_corpus)"
   ]
  },
  {
   "cell_type": "code",
   "execution_count": 86,
   "metadata": {},
   "outputs": [],
   "source": [
    "coherence_model_lda = CoherenceModel(model=lda, texts=common_corpus, dictionary=common_dictionary, coherence='c_v')"
   ]
  },
  {
   "cell_type": "code",
   "execution_count": 87,
   "metadata": {},
   "outputs": [
    {
     "name": "stderr",
     "output_type": "stream",
     "text": [
      "/Users/hyorimlee/opt/anaconda3/lib/python3.7/site-packages/gensim/topic_coherence/direct_confirmation_measure.py:202: RuntimeWarning: invalid value encountered in true_divide\n",
      "  numerator = (co_occur_count / num_docs) + EPSILON\n",
      "/Users/hyorimlee/opt/anaconda3/lib/python3.7/site-packages/gensim/topic_coherence/direct_confirmation_measure.py:203: RuntimeWarning: invalid value encountered in true_divide\n",
      "  denominator = (w_prime_count / num_docs) * (w_star_count / num_docs)\n",
      "/Users/hyorimlee/opt/anaconda3/lib/python3.7/site-packages/gensim/topic_coherence/direct_confirmation_measure.py:198: RuntimeWarning: invalid value encountered in true_divide\n",
      "  co_doc_prob = co_occur_count / num_docs\n"
     ]
    },
    {
     "data": {
      "text/plain": [
       "nan"
      ]
     },
     "execution_count": 87,
     "metadata": {},
     "output_type": "execute_result"
    }
   ],
   "source": [
    "#coherence_score\n",
    "coherence_lda = coherence_model_lda.get_coherence()\n",
    "coherence_lda"
   ]
  },
  {
   "cell_type": "code",
   "execution_count": 89,
   "metadata": {},
   "outputs": [
    {
     "data": {
      "text/html": [
       "<div>\n",
       "<style scoped>\n",
       "    .dataframe tbody tr th:only-of-type {\n",
       "        vertical-align: middle;\n",
       "    }\n",
       "\n",
       "    .dataframe tbody tr th {\n",
       "        vertical-align: top;\n",
       "    }\n",
       "\n",
       "    .dataframe thead th {\n",
       "        text-align: right;\n",
       "    }\n",
       "</style>\n",
       "<table border=\"1\" class=\"dataframe\">\n",
       "  <thead>\n",
       "    <tr style=\"text-align: right;\">\n",
       "      <th></th>\n",
       "      <th>0</th>\n",
       "      <th>1</th>\n",
       "      <th>2</th>\n",
       "      <th>3</th>\n",
       "      <th>4</th>\n",
       "      <th>5</th>\n",
       "      <th>6</th>\n",
       "      <th>7</th>\n",
       "      <th>8</th>\n",
       "      <th>9</th>\n",
       "      <th>10</th>\n",
       "      <th>11</th>\n",
       "      <th>12</th>\n",
       "      <th>13</th>\n",
       "      <th>14</th>\n",
       "      <th>15</th>\n",
       "      <th>16</th>\n",
       "      <th>17</th>\n",
       "      <th>18</th>\n",
       "      <th>19</th>\n",
       "    </tr>\n",
       "    <tr>\n",
       "      <th>fraud</th>\n",
       "      <th></th>\n",
       "      <th></th>\n",
       "      <th></th>\n",
       "      <th></th>\n",
       "      <th></th>\n",
       "      <th></th>\n",
       "      <th></th>\n",
       "      <th></th>\n",
       "      <th></th>\n",
       "      <th></th>\n",
       "      <th></th>\n",
       "      <th></th>\n",
       "      <th></th>\n",
       "      <th></th>\n",
       "      <th></th>\n",
       "      <th></th>\n",
       "      <th></th>\n",
       "      <th></th>\n",
       "      <th></th>\n",
       "      <th></th>\n",
       "    </tr>\n",
       "  </thead>\n",
       "  <tbody>\n",
       "    <tr>\n",
       "      <th>0</th>\n",
       "      <td>0.056612</td>\n",
       "      <td>0.014399</td>\n",
       "      <td>0.038889</td>\n",
       "      <td>0.098803</td>\n",
       "      <td>0.057531</td>\n",
       "      <td>0.069580</td>\n",
       "      <td>0.006949</td>\n",
       "      <td>0.050650</td>\n",
       "      <td>0.010707</td>\n",
       "      <td>0.051206</td>\n",
       "      <td>0.107655</td>\n",
       "      <td>0.017931</td>\n",
       "      <td>0.032145</td>\n",
       "      <td>0.078647</td>\n",
       "      <td>0.089913</td>\n",
       "      <td>0.054937</td>\n",
       "      <td>0.031408</td>\n",
       "      <td>0.084072</td>\n",
       "      <td>0.018864</td>\n",
       "      <td>0.014527</td>\n",
       "    </tr>\n",
       "    <tr>\n",
       "      <th>1</th>\n",
       "      <td>0.045519</td>\n",
       "      <td>0.020204</td>\n",
       "      <td>0.048862</td>\n",
       "      <td>0.137073</td>\n",
       "      <td>0.044574</td>\n",
       "      <td>0.056436</td>\n",
       "      <td>0.017085</td>\n",
       "      <td>0.045045</td>\n",
       "      <td>0.018241</td>\n",
       "      <td>0.043152</td>\n",
       "      <td>0.128049</td>\n",
       "      <td>0.051504</td>\n",
       "      <td>0.029701</td>\n",
       "      <td>0.066463</td>\n",
       "      <td>0.060502</td>\n",
       "      <td>0.034987</td>\n",
       "      <td>0.027298</td>\n",
       "      <td>0.053945</td>\n",
       "      <td>0.028932</td>\n",
       "      <td>0.021766</td>\n",
       "    </tr>\n",
       "  </tbody>\n",
       "</table>\n",
       "</div>"
      ],
      "text/plain": [
       "              0         1         2         3         4         5         6  \\\n",
       "fraud                                                                         \n",
       "0      0.056612  0.014399  0.038889  0.098803  0.057531  0.069580  0.006949   \n",
       "1      0.045519  0.020204  0.048862  0.137073  0.044574  0.056436  0.017085   \n",
       "\n",
       "              7         8         9        10        11        12        13  \\\n",
       "fraud                                                                         \n",
       "0      0.050650  0.010707  0.051206  0.107655  0.017931  0.032145  0.078647   \n",
       "1      0.045045  0.018241  0.043152  0.128049  0.051504  0.029701  0.066463   \n",
       "\n",
       "             14        15        16        17        18        19  \n",
       "fraud                                                              \n",
       "0      0.089913  0.054937  0.031408  0.084072  0.018864  0.014527  \n",
       "1      0.060502  0.034987  0.027298  0.053945  0.028932  0.021766  "
      ]
     },
     "execution_count": 89,
     "metadata": {},
     "output_type": "execute_result"
    }
   ],
   "source": [
    "ave = lda_vector.groupby('fraud').mean()\n",
    "ave"
   ]
  },
  {
   "cell_type": "code",
   "execution_count": 90,
   "metadata": {},
   "outputs": [],
   "source": [
    "ave['fraud'] = [0,1]"
   ]
  },
  {
   "cell_type": "code",
   "execution_count": 91,
   "metadata": {},
   "outputs": [
    {
     "data": {
      "text/html": [
       "<div>\n",
       "<style scoped>\n",
       "    .dataframe tbody tr th:only-of-type {\n",
       "        vertical-align: middle;\n",
       "    }\n",
       "\n",
       "    .dataframe tbody tr th {\n",
       "        vertical-align: top;\n",
       "    }\n",
       "\n",
       "    .dataframe thead th {\n",
       "        text-align: right;\n",
       "    }\n",
       "</style>\n",
       "<table border=\"1\" class=\"dataframe\">\n",
       "  <thead>\n",
       "    <tr style=\"text-align: right;\">\n",
       "      <th></th>\n",
       "      <th>0</th>\n",
       "      <th>1</th>\n",
       "      <th>2</th>\n",
       "      <th>3</th>\n",
       "      <th>4</th>\n",
       "      <th>5</th>\n",
       "      <th>6</th>\n",
       "      <th>7</th>\n",
       "      <th>8</th>\n",
       "      <th>9</th>\n",
       "      <th>...</th>\n",
       "      <th>11</th>\n",
       "      <th>12</th>\n",
       "      <th>13</th>\n",
       "      <th>14</th>\n",
       "      <th>15</th>\n",
       "      <th>16</th>\n",
       "      <th>17</th>\n",
       "      <th>18</th>\n",
       "      <th>19</th>\n",
       "      <th>fraud</th>\n",
       "    </tr>\n",
       "    <tr>\n",
       "      <th>fraud</th>\n",
       "      <th></th>\n",
       "      <th></th>\n",
       "      <th></th>\n",
       "      <th></th>\n",
       "      <th></th>\n",
       "      <th></th>\n",
       "      <th></th>\n",
       "      <th></th>\n",
       "      <th></th>\n",
       "      <th></th>\n",
       "      <th></th>\n",
       "      <th></th>\n",
       "      <th></th>\n",
       "      <th></th>\n",
       "      <th></th>\n",
       "      <th></th>\n",
       "      <th></th>\n",
       "      <th></th>\n",
       "      <th></th>\n",
       "      <th></th>\n",
       "      <th></th>\n",
       "    </tr>\n",
       "  </thead>\n",
       "  <tbody>\n",
       "    <tr>\n",
       "      <th>0</th>\n",
       "      <td>0.056612</td>\n",
       "      <td>0.014399</td>\n",
       "      <td>0.038889</td>\n",
       "      <td>0.098803</td>\n",
       "      <td>0.057531</td>\n",
       "      <td>0.069580</td>\n",
       "      <td>0.006949</td>\n",
       "      <td>0.050650</td>\n",
       "      <td>0.010707</td>\n",
       "      <td>0.051206</td>\n",
       "      <td>...</td>\n",
       "      <td>0.017931</td>\n",
       "      <td>0.032145</td>\n",
       "      <td>0.078647</td>\n",
       "      <td>0.089913</td>\n",
       "      <td>0.054937</td>\n",
       "      <td>0.031408</td>\n",
       "      <td>0.084072</td>\n",
       "      <td>0.018864</td>\n",
       "      <td>0.014527</td>\n",
       "      <td>0</td>\n",
       "    </tr>\n",
       "    <tr>\n",
       "      <th>1</th>\n",
       "      <td>0.045519</td>\n",
       "      <td>0.020204</td>\n",
       "      <td>0.048862</td>\n",
       "      <td>0.137073</td>\n",
       "      <td>0.044574</td>\n",
       "      <td>0.056436</td>\n",
       "      <td>0.017085</td>\n",
       "      <td>0.045045</td>\n",
       "      <td>0.018241</td>\n",
       "      <td>0.043152</td>\n",
       "      <td>...</td>\n",
       "      <td>0.051504</td>\n",
       "      <td>0.029701</td>\n",
       "      <td>0.066463</td>\n",
       "      <td>0.060502</td>\n",
       "      <td>0.034987</td>\n",
       "      <td>0.027298</td>\n",
       "      <td>0.053945</td>\n",
       "      <td>0.028932</td>\n",
       "      <td>0.021766</td>\n",
       "      <td>1</td>\n",
       "    </tr>\n",
       "  </tbody>\n",
       "</table>\n",
       "<p>2 rows × 21 columns</p>\n",
       "</div>"
      ],
      "text/plain": [
       "              0         1         2         3         4         5         6  \\\n",
       "fraud                                                                         \n",
       "0      0.056612  0.014399  0.038889  0.098803  0.057531  0.069580  0.006949   \n",
       "1      0.045519  0.020204  0.048862  0.137073  0.044574  0.056436  0.017085   \n",
       "\n",
       "              7         8         9  ...        11        12        13  \\\n",
       "fraud                                ...                                 \n",
       "0      0.050650  0.010707  0.051206  ...  0.017931  0.032145  0.078647   \n",
       "1      0.045045  0.018241  0.043152  ...  0.051504  0.029701  0.066463   \n",
       "\n",
       "             14        15        16        17        18        19  fraud  \n",
       "fraud                                                                     \n",
       "0      0.089913  0.054937  0.031408  0.084072  0.018864  0.014527      0  \n",
       "1      0.060502  0.034987  0.027298  0.053945  0.028932  0.021766      1  \n",
       "\n",
       "[2 rows x 21 columns]"
      ]
     },
     "execution_count": 91,
     "metadata": {},
     "output_type": "execute_result"
    }
   ],
   "source": [
    "ave"
   ]
  },
  {
   "cell_type": "markdown",
   "metadata": {},
   "source": [
    "# LSI Model"
   ]
  },
  {
   "cell_type": "code",
   "execution_count": 92,
   "metadata": {},
   "outputs": [],
   "source": [
    "lsi = gensim.models.LsiModel(common_corpus, id2word=common_dictionary, num_topics=20)"
   ]
  },
  {
   "cell_type": "code",
   "execution_count": 93,
   "metadata": {},
   "outputs": [
    {
     "data": {
      "text/plain": [
       "[(0,\n",
       "  '0.233*\"event\" + 0.183*\"busi\" + 0.172*\"ticket\" + 0.141*\"time\" + 0.137*\"com\" + 0.134*\"new\" + 0.133*\"work\" + 0.133*\"one\" + 0.127*\"includ\" + 0.123*\"year\"'),\n",
       " (1,\n",
       "  '0.759*\"de\" + 0.333*\"le\" + 0.255*\"et\" + 0.254*\"la\" + 0.201*\"à\" + 0.160*\"en\" + 0.120*\"du\" + 0.113*\"pour\" + 0.101*\"un\" + 0.090*\"vou\"'),\n",
       " (2,\n",
       "  '-0.489*\"ticket\" + 0.290*\"busi\" + -0.235*\"event\" + -0.170*\"com\" + 0.156*\"manag\" + -0.140*\"ride\" + 0.139*\"develop\" + 0.133*\"market\" + 0.129*\"work\" + -0.122*\"parti\"'),\n",
       " (3,\n",
       "  '-0.462*\"com\" + -0.337*\"www\" + 0.285*\"ride\" + -0.193*\"http\" + 0.171*\"hors\" + -0.170*\"new\" + -0.165*\"facebook\" + 0.136*\"time\" + 0.126*\"beach\" + -0.122*\"music\"'),\n",
       " (4,\n",
       "  '0.545*\"busi\" + 0.333*\"event\" + 0.259*\"ticket\" + -0.192*\"class\" + 0.178*\"network\" + -0.174*\"cours\" + -0.171*\"com\" + 0.169*\"market\" + -0.129*\"www\" + 0.102*\"start\"'),\n",
       " (5,\n",
       "  '0.424*\"ride\" + -0.285*\"event\" + 0.259*\"hors\" + 0.202*\"busi\" + 0.199*\"beach\" + -0.180*\"ticket\" + 0.173*\"com\" + 0.157*\"time\" + 0.123*\"www\" + 0.120*\"rider\"'),\n",
       " (6,\n",
       "  '-0.304*\"com\" + -0.292*\"class\" + -0.232*\"busi\" + -0.232*\"cours\" + -0.214*\"www\" + -0.167*\"use\" + 0.167*\"year\" + 0.162*\"commun\" + -0.156*\"facebook\" + 0.141*\"new\"'),\n",
       " (7,\n",
       "  '-0.233*\"ticket\" + -0.203*\"manag\" + -0.190*\"ride\" + -0.172*\"develop\" + 0.167*\"get\" + -0.156*\"com\" + 0.140*\"make\" + -0.139*\"univers\" + -0.138*\"www\" + -0.121*\"hors\"'),\n",
       " (8,\n",
       "  '-0.457*\"event\" + 0.436*\"ticket\" + 0.210*\"new\" + -0.165*\"network\" + 0.155*\"market\" + -0.139*\"ride\" + -0.131*\"registr\" + 0.127*\"nyc\" + -0.125*\"com\" + 0.122*\"music\"'),\n",
       " (9,\n",
       "  '0.306*\"food\" + 0.279*\"workshop\" + -0.242*\"class\" + 0.216*\"ticket\" + 0.211*\"session\" + -0.201*\"new\" + -0.201*\"year\" + -0.198*\"cours\" + 0.185*\"commun\" + -0.161*\"event\"'),\n",
       " (10,\n",
       "  '0.334*\"food\" + 0.316*\"class\" + 0.271*\"market\" + 0.210*\"session\" + -0.172*\"cours\" + -0.162*\"ticket\" + -0.146*\"work\" + 0.140*\"street\" + 0.131*\"pm\" + 0.123*\"local\"'),\n",
       " (11,\n",
       "  '0.353*\"event\" + 0.306*\"class\" + 0.211*\"design\" + 0.194*\"wine\" + 0.189*\"cours\" + -0.179*\"busi\" + 0.172*\"food\" + -0.163*\"registr\" + 0.152*\"start\" + 0.149*\"wineri\"'),\n",
       " (12,\n",
       "  '0.362*\"new\" + 0.271*\"nyc\" + -0.245*\"music\" + 0.234*\"year\" + -0.220*\"market\" + -0.209*\"media\" + -0.164*\"social\" + 0.148*\"eve\" + 0.145*\"food\" + -0.124*\"art\"'),\n",
       " (13,\n",
       "  '-0.285*\"class\" + 0.272*\"social\" + 0.260*\"new\" + 0.233*\"workshop\" + 0.218*\"media\" + -0.201*\"busi\" + 0.187*\"nyc\" + 0.182*\"use\" + -0.167*\"food\" + 0.162*\"event\"'),\n",
       " (14,\n",
       "  '-0.472*\"class\" + 0.346*\"cours\" + 0.286*\"food\" + 0.210*\"session\" + 0.178*\"wine\" + -0.165*\"social\" + -0.164*\"commun\" + 0.139*\"train\" + 0.133*\"day\" + -0.132*\"ticket\"'),\n",
       " (15,\n",
       "  '0.284*\"session\" + 0.273*\"camp\" + 0.225*\"workshop\" + -0.219*\"street\" + -0.215*\"cours\" + 0.214*\"art\" + 0.198*\"design\" + -0.197*\"market\" + -0.168*\"health\" + 0.151*\"busi\"'),\n",
       " (16,\n",
       "  '-0.395*\"design\" + 0.344*\"music\" + 0.269*\"busi\" + 0.204*\"health\" + 0.189*\"cours\" + 0.171*\"train\" + -0.146*\"book\" + 0.129*\"commun\" + 0.128*\"dj\" + -0.116*\"time\"'),\n",
       " (17,\n",
       "  '0.471*\"design\" + 0.288*\"busi\" + -0.239*\"media\" + -0.232*\"social\" + -0.187*\"book\" + -0.174*\"manag\" + -0.166*\"session\" + 0.153*\"health\" + -0.130*\"team\" + -0.122*\"time\"'),\n",
       " (18,\n",
       "  '-0.359*\"amp\" + 0.236*\"parti\" + -0.212*\"new\" + 0.188*\"manag\" + 0.161*\"workshop\" + -0.153*\"film\" + 0.142*\"dj\" + -0.141*\"year\" + 0.134*\"night\" + -0.129*\"camp\"'),\n",
       " (19,\n",
       "  '-0.354*\"workshop\" + -0.326*\"amp\" + 0.262*\"camp\" + -0.172*\"film\" + -0.156*\"book\" + 0.139*\"market\" + 0.130*\"commun\" + 0.129*\"social\" + 0.128*\"facebook\" + 0.125*\"camper\"')]"
      ]
     },
     "execution_count": 93,
     "metadata": {},
     "output_type": "execute_result"
    }
   ],
   "source": [
    "lsi.print_topics()"
   ]
  },
  {
   "cell_type": "code",
   "execution_count": 94,
   "metadata": {},
   "outputs": [],
   "source": [
    "topic_vectors = []\n",
    "for i in range(len(common_corpus)):\n",
    "    topic_vectors.append(lsi[common_corpus[i]])"
   ]
  },
  {
   "cell_type": "code",
   "execution_count": 95,
   "metadata": {},
   "outputs": [],
   "source": [
    "df_vector = pd.DataFrame(zero_data, columns=['0','1','2','3','4','5','6','7','8','9','10','11','12','13','14','15','16','17','18','19'])"
   ]
  },
  {
   "cell_type": "code",
   "execution_count": 96,
   "metadata": {},
   "outputs": [],
   "source": [
    "for i in range(len(common_corpus)):\n",
    "    for j in range(len(topic_vectors[i])):\n",
    "        df_vector.iloc[i][str(topic_vectors[i][j][0])] = topic_vectors[i][j][1]"
   ]
  },
  {
   "cell_type": "code",
   "execution_count": 97,
   "metadata": {},
   "outputs": [],
   "source": [
    "lsi_vector = df_vector"
   ]
  },
  {
   "cell_type": "code",
   "execution_count": 98,
   "metadata": {},
   "outputs": [],
   "source": [
    "lsi_vector['fraud'] = df.acct_type"
   ]
  },
  {
   "cell_type": "code",
   "execution_count": 99,
   "metadata": {},
   "outputs": [
    {
     "data": {
      "text/html": [
       "<div>\n",
       "<style scoped>\n",
       "    .dataframe tbody tr th:only-of-type {\n",
       "        vertical-align: middle;\n",
       "    }\n",
       "\n",
       "    .dataframe tbody tr th {\n",
       "        vertical-align: top;\n",
       "    }\n",
       "\n",
       "    .dataframe thead th {\n",
       "        text-align: right;\n",
       "    }\n",
       "</style>\n",
       "<table border=\"1\" class=\"dataframe\">\n",
       "  <thead>\n",
       "    <tr style=\"text-align: right;\">\n",
       "      <th></th>\n",
       "      <th>0</th>\n",
       "      <th>1</th>\n",
       "      <th>2</th>\n",
       "      <th>3</th>\n",
       "      <th>4</th>\n",
       "      <th>5</th>\n",
       "      <th>6</th>\n",
       "      <th>7</th>\n",
       "      <th>8</th>\n",
       "      <th>9</th>\n",
       "      <th>...</th>\n",
       "      <th>11</th>\n",
       "      <th>12</th>\n",
       "      <th>13</th>\n",
       "      <th>14</th>\n",
       "      <th>15</th>\n",
       "      <th>16</th>\n",
       "      <th>17</th>\n",
       "      <th>18</th>\n",
       "      <th>19</th>\n",
       "      <th>fraud</th>\n",
       "    </tr>\n",
       "  </thead>\n",
       "  <tbody>\n",
       "    <tr>\n",
       "      <th>0</th>\n",
       "      <td>3.621600</td>\n",
       "      <td>-0.141238</td>\n",
       "      <td>-3.345678</td>\n",
       "      <td>-1.651133</td>\n",
       "      <td>-0.383689</td>\n",
       "      <td>0.512175</td>\n",
       "      <td>1.576811</td>\n",
       "      <td>1.035093</td>\n",
       "      <td>0.285932</td>\n",
       "      <td>-1.918013</td>\n",
       "      <td>...</td>\n",
       "      <td>-0.501673</td>\n",
       "      <td>-0.015444</td>\n",
       "      <td>1.014300</td>\n",
       "      <td>1.211424</td>\n",
       "      <td>0.443429</td>\n",
       "      <td>2.195993</td>\n",
       "      <td>-0.001727</td>\n",
       "      <td>4.310697</td>\n",
       "      <td>-0.324981</td>\n",
       "      <td>1</td>\n",
       "    </tr>\n",
       "    <tr>\n",
       "      <th>1</th>\n",
       "      <td>5.780769</td>\n",
       "      <td>-0.464254</td>\n",
       "      <td>-1.644415</td>\n",
       "      <td>1.203552</td>\n",
       "      <td>-0.644938</td>\n",
       "      <td>-1.976511</td>\n",
       "      <td>1.039346</td>\n",
       "      <td>-0.099617</td>\n",
       "      <td>-1.448731</td>\n",
       "      <td>-0.863087</td>\n",
       "      <td>...</td>\n",
       "      <td>-2.420367</td>\n",
       "      <td>-1.038485</td>\n",
       "      <td>0.097151</td>\n",
       "      <td>0.043525</td>\n",
       "      <td>-0.618685</td>\n",
       "      <td>-0.292637</td>\n",
       "      <td>0.134824</td>\n",
       "      <td>0.529547</td>\n",
       "      <td>-0.016767</td>\n",
       "      <td>0</td>\n",
       "    </tr>\n",
       "    <tr>\n",
       "      <th>2</th>\n",
       "      <td>4.723428</td>\n",
       "      <td>-0.446696</td>\n",
       "      <td>-0.010508</td>\n",
       "      <td>2.548243</td>\n",
       "      <td>-0.972565</td>\n",
       "      <td>-1.909409</td>\n",
       "      <td>-2.166241</td>\n",
       "      <td>-1.477415</td>\n",
       "      <td>-0.339083</td>\n",
       "      <td>-0.684484</td>\n",
       "      <td>...</td>\n",
       "      <td>-1.222850</td>\n",
       "      <td>-0.212309</td>\n",
       "      <td>0.674830</td>\n",
       "      <td>0.865073</td>\n",
       "      <td>0.051525</td>\n",
       "      <td>1.233910</td>\n",
       "      <td>-0.259763</td>\n",
       "      <td>-0.751701</td>\n",
       "      <td>-0.106015</td>\n",
       "      <td>0</td>\n",
       "    </tr>\n",
       "    <tr>\n",
       "      <th>3</th>\n",
       "      <td>11.256209</td>\n",
       "      <td>-0.296095</td>\n",
       "      <td>3.213545</td>\n",
       "      <td>-0.167995</td>\n",
       "      <td>-1.870157</td>\n",
       "      <td>-3.198295</td>\n",
       "      <td>0.937469</td>\n",
       "      <td>-5.948642</td>\n",
       "      <td>-2.693087</td>\n",
       "      <td>-3.516629</td>\n",
       "      <td>...</td>\n",
       "      <td>-1.280997</td>\n",
       "      <td>1.595520</td>\n",
       "      <td>-0.281242</td>\n",
       "      <td>2.021806</td>\n",
       "      <td>-0.234451</td>\n",
       "      <td>0.795050</td>\n",
       "      <td>-3.467675</td>\n",
       "      <td>-0.332934</td>\n",
       "      <td>2.241913</td>\n",
       "      <td>0</td>\n",
       "    </tr>\n",
       "    <tr>\n",
       "      <th>4</th>\n",
       "      <td>4.893311</td>\n",
       "      <td>-0.327756</td>\n",
       "      <td>1.809838</td>\n",
       "      <td>-0.755366</td>\n",
       "      <td>0.755035</td>\n",
       "      <td>0.892941</td>\n",
       "      <td>0.845317</td>\n",
       "      <td>0.454252</td>\n",
       "      <td>1.635841</td>\n",
       "      <td>-1.194835</td>\n",
       "      <td>...</td>\n",
       "      <td>-0.417872</td>\n",
       "      <td>-1.735021</td>\n",
       "      <td>-0.843372</td>\n",
       "      <td>-0.013163</td>\n",
       "      <td>0.388332</td>\n",
       "      <td>0.075299</td>\n",
       "      <td>-0.048810</td>\n",
       "      <td>-1.496276</td>\n",
       "      <td>-2.204891</td>\n",
       "      <td>0</td>\n",
       "    </tr>\n",
       "    <tr>\n",
       "      <th>...</th>\n",
       "      <td>...</td>\n",
       "      <td>...</td>\n",
       "      <td>...</td>\n",
       "      <td>...</td>\n",
       "      <td>...</td>\n",
       "      <td>...</td>\n",
       "      <td>...</td>\n",
       "      <td>...</td>\n",
       "      <td>...</td>\n",
       "      <td>...</td>\n",
       "      <td>...</td>\n",
       "      <td>...</td>\n",
       "      <td>...</td>\n",
       "      <td>...</td>\n",
       "      <td>...</td>\n",
       "      <td>...</td>\n",
       "      <td>...</td>\n",
       "      <td>...</td>\n",
       "      <td>...</td>\n",
       "      <td>...</td>\n",
       "      <td>...</td>\n",
       "    </tr>\n",
       "    <tr>\n",
       "      <th>14332</th>\n",
       "      <td>1.729116</td>\n",
       "      <td>-0.113408</td>\n",
       "      <td>-1.152548</td>\n",
       "      <td>-0.440340</td>\n",
       "      <td>0.268726</td>\n",
       "      <td>-0.473591</td>\n",
       "      <td>0.947675</td>\n",
       "      <td>1.029696</td>\n",
       "      <td>-0.976507</td>\n",
       "      <td>-0.734515</td>\n",
       "      <td>...</td>\n",
       "      <td>0.327566</td>\n",
       "      <td>-0.043208</td>\n",
       "      <td>0.289201</td>\n",
       "      <td>0.040124</td>\n",
       "      <td>-0.280735</td>\n",
       "      <td>0.485710</td>\n",
       "      <td>0.136598</td>\n",
       "      <td>0.501084</td>\n",
       "      <td>0.253828</td>\n",
       "      <td>1</td>\n",
       "    </tr>\n",
       "    <tr>\n",
       "      <th>14333</th>\n",
       "      <td>4.799743</td>\n",
       "      <td>0.265634</td>\n",
       "      <td>0.148100</td>\n",
       "      <td>-0.972965</td>\n",
       "      <td>-0.507895</td>\n",
       "      <td>-1.342577</td>\n",
       "      <td>2.112359</td>\n",
       "      <td>-1.664393</td>\n",
       "      <td>-1.286884</td>\n",
       "      <td>-0.901503</td>\n",
       "      <td>...</td>\n",
       "      <td>0.596213</td>\n",
       "      <td>-0.016159</td>\n",
       "      <td>-0.133786</td>\n",
       "      <td>-0.881976</td>\n",
       "      <td>-1.214061</td>\n",
       "      <td>-0.334957</td>\n",
       "      <td>0.590439</td>\n",
       "      <td>-1.425255</td>\n",
       "      <td>0.068220</td>\n",
       "      <td>0</td>\n",
       "    </tr>\n",
       "    <tr>\n",
       "      <th>14334</th>\n",
       "      <td>1.429713</td>\n",
       "      <td>-0.162306</td>\n",
       "      <td>-0.360474</td>\n",
       "      <td>0.048668</td>\n",
       "      <td>-0.300720</td>\n",
       "      <td>0.352388</td>\n",
       "      <td>0.343266</td>\n",
       "      <td>1.018087</td>\n",
       "      <td>0.029932</td>\n",
       "      <td>0.024517</td>\n",
       "      <td>...</td>\n",
       "      <td>-0.163705</td>\n",
       "      <td>0.389655</td>\n",
       "      <td>0.095067</td>\n",
       "      <td>-0.029851</td>\n",
       "      <td>-0.364420</td>\n",
       "      <td>-0.274249</td>\n",
       "      <td>0.033985</td>\n",
       "      <td>-0.170099</td>\n",
       "      <td>0.264322</td>\n",
       "      <td>0</td>\n",
       "    </tr>\n",
       "    <tr>\n",
       "      <th>14335</th>\n",
       "      <td>5.333854</td>\n",
       "      <td>5.679179</td>\n",
       "      <td>-3.962124</td>\n",
       "      <td>0.039195</td>\n",
       "      <td>0.470724</td>\n",
       "      <td>-1.337946</td>\n",
       "      <td>1.503730</td>\n",
       "      <td>1.379893</td>\n",
       "      <td>1.156166</td>\n",
       "      <td>-0.349291</td>\n",
       "      <td>...</td>\n",
       "      <td>0.270740</td>\n",
       "      <td>-0.471031</td>\n",
       "      <td>-0.251691</td>\n",
       "      <td>0.364415</td>\n",
       "      <td>-0.191076</td>\n",
       "      <td>1.563455</td>\n",
       "      <td>0.422490</td>\n",
       "      <td>0.757046</td>\n",
       "      <td>-0.052466</td>\n",
       "      <td>0</td>\n",
       "    </tr>\n",
       "    <tr>\n",
       "      <th>14336</th>\n",
       "      <td>0.050000</td>\n",
       "      <td>0.050000</td>\n",
       "      <td>0.050000</td>\n",
       "      <td>0.050000</td>\n",
       "      <td>0.050000</td>\n",
       "      <td>0.050000</td>\n",
       "      <td>0.050000</td>\n",
       "      <td>0.050000</td>\n",
       "      <td>0.050000</td>\n",
       "      <td>0.050000</td>\n",
       "      <td>...</td>\n",
       "      <td>0.050000</td>\n",
       "      <td>0.050000</td>\n",
       "      <td>0.050000</td>\n",
       "      <td>0.050000</td>\n",
       "      <td>0.050000</td>\n",
       "      <td>0.050000</td>\n",
       "      <td>0.050000</td>\n",
       "      <td>0.050000</td>\n",
       "      <td>0.050000</td>\n",
       "      <td>1</td>\n",
       "    </tr>\n",
       "  </tbody>\n",
       "</table>\n",
       "<p>14337 rows × 21 columns</p>\n",
       "</div>"
      ],
      "text/plain": [
       "               0         1         2         3         4         5         6  \\\n",
       "0       3.621600 -0.141238 -3.345678 -1.651133 -0.383689  0.512175  1.576811   \n",
       "1       5.780769 -0.464254 -1.644415  1.203552 -0.644938 -1.976511  1.039346   \n",
       "2       4.723428 -0.446696 -0.010508  2.548243 -0.972565 -1.909409 -2.166241   \n",
       "3      11.256209 -0.296095  3.213545 -0.167995 -1.870157 -3.198295  0.937469   \n",
       "4       4.893311 -0.327756  1.809838 -0.755366  0.755035  0.892941  0.845317   \n",
       "...          ...       ...       ...       ...       ...       ...       ...   \n",
       "14332   1.729116 -0.113408 -1.152548 -0.440340  0.268726 -0.473591  0.947675   \n",
       "14333   4.799743  0.265634  0.148100 -0.972965 -0.507895 -1.342577  2.112359   \n",
       "14334   1.429713 -0.162306 -0.360474  0.048668 -0.300720  0.352388  0.343266   \n",
       "14335   5.333854  5.679179 -3.962124  0.039195  0.470724 -1.337946  1.503730   \n",
       "14336   0.050000  0.050000  0.050000  0.050000  0.050000  0.050000  0.050000   \n",
       "\n",
       "              7         8         9  ...        11        12        13  \\\n",
       "0      1.035093  0.285932 -1.918013  ... -0.501673 -0.015444  1.014300   \n",
       "1     -0.099617 -1.448731 -0.863087  ... -2.420367 -1.038485  0.097151   \n",
       "2     -1.477415 -0.339083 -0.684484  ... -1.222850 -0.212309  0.674830   \n",
       "3     -5.948642 -2.693087 -3.516629  ... -1.280997  1.595520 -0.281242   \n",
       "4      0.454252  1.635841 -1.194835  ... -0.417872 -1.735021 -0.843372   \n",
       "...         ...       ...       ...  ...       ...       ...       ...   \n",
       "14332  1.029696 -0.976507 -0.734515  ...  0.327566 -0.043208  0.289201   \n",
       "14333 -1.664393 -1.286884 -0.901503  ...  0.596213 -0.016159 -0.133786   \n",
       "14334  1.018087  0.029932  0.024517  ... -0.163705  0.389655  0.095067   \n",
       "14335  1.379893  1.156166 -0.349291  ...  0.270740 -0.471031 -0.251691   \n",
       "14336  0.050000  0.050000  0.050000  ...  0.050000  0.050000  0.050000   \n",
       "\n",
       "             14        15        16        17        18        19  fraud  \n",
       "0      1.211424  0.443429  2.195993 -0.001727  4.310697 -0.324981      1  \n",
       "1      0.043525 -0.618685 -0.292637  0.134824  0.529547 -0.016767      0  \n",
       "2      0.865073  0.051525  1.233910 -0.259763 -0.751701 -0.106015      0  \n",
       "3      2.021806 -0.234451  0.795050 -3.467675 -0.332934  2.241913      0  \n",
       "4     -0.013163  0.388332  0.075299 -0.048810 -1.496276 -2.204891      0  \n",
       "...         ...       ...       ...       ...       ...       ...    ...  \n",
       "14332  0.040124 -0.280735  0.485710  0.136598  0.501084  0.253828      1  \n",
       "14333 -0.881976 -1.214061 -0.334957  0.590439 -1.425255  0.068220      0  \n",
       "14334 -0.029851 -0.364420 -0.274249  0.033985 -0.170099  0.264322      0  \n",
       "14335  0.364415 -0.191076  1.563455  0.422490  0.757046 -0.052466      0  \n",
       "14336  0.050000  0.050000  0.050000  0.050000  0.050000  0.050000      1  \n",
       "\n",
       "[14337 rows x 21 columns]"
      ]
     },
     "execution_count": 99,
     "metadata": {},
     "output_type": "execute_result"
    }
   ],
   "source": [
    "lsi_vector"
   ]
  },
  {
   "cell_type": "code",
   "execution_count": 100,
   "metadata": {},
   "outputs": [],
   "source": [
    "#lsi_vector.drop(columns=['fraud']).to_csv('data/lsi_vector.csv')"
   ]
  },
  {
   "cell_type": "markdown",
   "metadata": {},
   "source": [
    "## LSI_RandomForest"
   ]
  },
  {
   "cell_type": "code",
   "execution_count": 101,
   "metadata": {},
   "outputs": [],
   "source": [
    "# Since it's imbalanced data, resample fraud == 1 "
   ]
  },
  {
   "cell_type": "code",
   "execution_count": 102,
   "metadata": {},
   "outputs": [],
   "source": [
    "X = lsi_vector.drop(columns=['fraud'])\n",
    "y = lsi_vector.fraud"
   ]
  },
  {
   "cell_type": "code",
   "execution_count": 103,
   "metadata": {},
   "outputs": [],
   "source": [
    "X_train, X_test, y_train, y_test = train_test_split(X,y,stratify=y, shuffle=True, random_state=4)"
   ]
  },
  {
   "cell_type": "code",
   "execution_count": 104,
   "metadata": {},
   "outputs": [],
   "source": [
    "sm = SMOTE()\n",
    "X_train,y_train = sm.fit_resample(X_train, y_train)"
   ]
  },
  {
   "cell_type": "code",
   "execution_count": 105,
   "metadata": {},
   "outputs": [],
   "source": [
    "whole = pd.concat([X_train, y_train], axis=1)"
   ]
  },
  {
   "cell_type": "code",
   "execution_count": 106,
   "metadata": {},
   "outputs": [],
   "source": [
    "whole.fraud = whole.fraud.astype('str')"
   ]
  },
  {
   "cell_type": "code",
   "execution_count": 107,
   "metadata": {},
   "outputs": [
    {
     "name": "stderr",
     "output_type": "stream",
     "text": [
      "/Users/hyorimlee/opt/anaconda3/lib/python3.7/site-packages/ipykernel_launcher.py:1: SettingWithCopyWarning: \n",
      "A value is trying to be set on a copy of a slice from a DataFrame\n",
      "\n",
      "See the caveats in the documentation: https://pandas.pydata.org/pandas-docs/stable/user_guide/indexing.html#returning-a-view-versus-a-copy\n",
      "  \"\"\"Entry point for launching an IPython kernel.\n"
     ]
    }
   ],
   "source": [
    "whole.fraud[whole.fraud == '1'] = 'Fraud'"
   ]
  },
  {
   "cell_type": "code",
   "execution_count": 108,
   "metadata": {},
   "outputs": [
    {
     "name": "stderr",
     "output_type": "stream",
     "text": [
      "/Users/hyorimlee/opt/anaconda3/lib/python3.7/site-packages/ipykernel_launcher.py:1: SettingWithCopyWarning: \n",
      "A value is trying to be set on a copy of a slice from a DataFrame\n",
      "\n",
      "See the caveats in the documentation: https://pandas.pydata.org/pandas-docs/stable/user_guide/indexing.html#returning-a-view-versus-a-copy\n",
      "  \"\"\"Entry point for launching an IPython kernel.\n"
     ]
    }
   ],
   "source": [
    "whole.fraud[whole.fraud == '0'] = 'Not Fraud'"
   ]
  },
  {
   "cell_type": "code",
   "execution_count": 109,
   "metadata": {},
   "outputs": [
    {
     "data": {
      "image/png": "[encoded data removed]",
      "text/plain": [
       "<Figure size 432x288 with 1 Axes>"
      ]
     },
     "metadata": {},
     "output_type": "display_data"
    }
   ],
   "source": [
    "fig = pd.plotting.parallel_coordinates(whole,'fraud' , color=('#FFE888', '#FF9999'))\n",
    "plt.savefig('img/lsi_dimensions2')"
   ]
  },
  {
   "cell_type": "code",
   "execution_count": 110,
   "metadata": {},
   "outputs": [
    {
     "data": {
      "image/png": "[encoded data removed]",
      "text/plain": [
       "<Figure size 432x288 with 1 Axes>"
      ]
     },
     "metadata": {},
     "output_type": "display_data"
    }
   ],
   "source": [
    "fig = pd.plotting.parallel_coordinates(ave, 'fraud' ,color=('black', 'red'))\n",
    "plt.savefig('img/mean_lsi')"
   ]
  },
  {
   "cell_type": "code",
   "execution_count": null,
   "metadata": {},
   "outputs": [],
   "source": []
  },
  {
   "cell_type": "code",
   "execution_count": 111,
   "metadata": {},
   "outputs": [],
   "source": [
    "X_train, X_test, y_train, y_test = train_test_split(X,y,stratify=y, shuffle=True, random_state=4)"
   ]
  },
  {
   "cell_type": "code",
   "execution_count": 112,
   "metadata": {},
   "outputs": [],
   "source": [
    "sm = SMOTE()\n"
   ]
  },
  {
   "cell_type": "code",
   "execution_count": 113,
   "metadata": {},
   "outputs": [],
   "source": [
    "X_train, y_train = sm.fit_sample(X_train,y_train.ravel())"
   ]
  },
  {
   "cell_type": "code",
   "execution_count": 114,
   "metadata": {},
   "outputs": [],
   "source": [
    "lsi_forest = RandomForestClassifier()"
   ]
  },
  {
   "cell_type": "code",
   "execution_count": 115,
   "metadata": {},
   "outputs": [],
   "source": [
    "lsi_forest.fit(X_train, y_train)\n",
    "trained_model = lsi_forest.fit(X_train, y_train.ravel())"
   ]
  },
  {
   "cell_type": "code",
   "execution_count": 116,
   "metadata": {},
   "outputs": [
    {
     "data": {
      "text/plain": [
       "0.9296152033547445"
      ]
     },
     "execution_count": 116,
     "metadata": {},
     "output_type": "execute_result"
    }
   ],
   "source": [
    "cross_val_score(lsi_forest,X_train,y_train, cv=10).mean()"
   ]
  },
  {
   "cell_type": "code",
   "execution_count": 117,
   "metadata": {},
   "outputs": [
    {
     "name": "stdout",
     "output_type": "stream",
     "text": [
      "0.544891640866873\n"
     ]
    }
   ],
   "source": [
    "# Recall Score\n",
    "preds = lsi_forest.predict(X_test)\n",
    "print(recall_score(y_test, preds))"
   ]
  },
  {
   "cell_type": "code",
   "execution_count": 118,
   "metadata": {},
   "outputs": [
    {
     "data": {
      "text/plain": [
       "array([[2923,  339],\n",
       "       [ 147,  176]])"
      ]
     },
     "execution_count": 118,
     "metadata": {},
     "output_type": "execute_result"
    }
   ],
   "source": [
    "# Get and reshape confusion matrix data\n",
    "matrix = confusion_matrix(y_test, preds)\n",
    "#matrix = matrix.astype('float') / matrix.sum(axis=1)[:, np.newaxis]\n",
    "matrix"
   ]
  },
  {
   "cell_type": "code",
   "execution_count": 119,
   "metadata": {},
   "outputs": [
    {
     "data": {
      "image/png": "[encoded data removed]",
      "text/plain": [
       "<Figure size 1152x504 with 2 Axes>"
      ]
     },
     "metadata": {},
     "output_type": "display_data"
    }
   ],
   "source": [
    "# Build the plot\n",
    "plt.figure(figsize=(16,7))\n",
    "\n",
    "accuracy = accuracy_score(preds, y_test)\n",
    "precision = precision_score(preds, y_test, labels=labels, average = 'macro')\n",
    "recall = recall_score(preds, y_test, labels=labels, average = 'macro')\n",
    "f1 = f1_score(preds, y_test, labels=labels, average = 'macro')\n",
    "group_counts = [\"{0:0.0f}\\n\".format(value) for value in matrix .flatten()]\n",
    "group_percentages = [\"{0:.2%}\".format(value) for value in matrix .flatten()/np.sum(matrix)]\n",
    "\n",
    "box_labels = [f\"{v1}{v2}\".strip() for v1, v2 in zip(group_counts,group_percentages)]\n",
    "box_labels = np.asarray(box_labels).reshape(matrix .shape[0],matrix .shape[1])\n",
    "\n",
    "\n",
    "sns.set(font_scale=1.4)\n",
    "\n",
    "sns.heatmap(matrix , annot=box_labels, fmt='', cmap='GnBu',\n",
    "            xticklabels=['Fraud', 'Not Fraud'],yticklabels=['Fraud', 'Not Fraud'])\n",
    "\n",
    "# sns.heatmap(matrix, annot=True, annot_kws={'size':15},\n",
    "#             cmap=plt.cm.Reds, linewidths=0.2)\n",
    "\n",
    "\n",
    "\n",
    "# Add labels to the plot\n",
    "class_names = ['Not Fraud', 'Fraud']\n",
    "tick_marks = np.arange(len(class_names))\n",
    "tick_marks2 = tick_marks + 0.5\n",
    "plt.xticks(tick_marks+.5, class_names, rotation=0)\n",
    "plt.yticks(tick_marks2 , class_names, rotation=0)\n",
    "plt.xlabel('PREDICTED')\n",
    "plt.ylabel('TRUE')\n",
    "plt.title('Accuracy: {:.2%}, Precision: {:.2%}, Recall: {:.2%}, F-1 Score: {:.2%} \\n({} Test Values)'.format(accuracy,precision, recall, f1, len(y_test)))\n",
    "plt.savefig('img/confusion_lsi2.jpg')\n",
    "plt.show()"
   ]
  },
  {
   "cell_type": "code",
   "execution_count": 121,
   "metadata": {},
   "outputs": [],
   "source": [
    "# y_pred_sample_score = trained_model.decision_function(X_test)\n",
    "# y_test_bin = []\n",
    "# for i in y_test:\n",
    "#     if i==1:\n",
    "#         y_test_bin.append(0)\n",
    "#     else:\n",
    "#         y_test_bin.append(1)\n",
    "        \n",
    "# fpr, tpr, thresholds = roc_curve(y_test_bin, y_pred_sample_score)\n",
    "# roc_auc = auc(fpr,tpr)\n",
    "# # Plot ROC\n",
    "# plt.figure(figsize = (12, 8)) #figsize = (24, 16)\n",
    "# plt.title('Receiver Operating Characteristic')\n",
    "# plt.plot(fpr, tpr, 'b',label='AUC = %0.3f'% roc_auc)\n",
    "# plt.legend(loc='lower right')\n",
    "# plt.plot([0,1],[0,1],'r--')\n",
    "# plt.xlim([-0.1,1.0])\n",
    "# plt.ylim([-0.1,1.01])\n",
    "# plt.ylabel('True Positive Rate')\n",
    "# plt.xlabel('False Positive Rate')\n",
    "# plt.show()"
   ]
  },
  {
   "cell_type": "code",
   "execution_count": null,
   "metadata": {},
   "outputs": [],
   "source": [
    "# #GridSearch to try out different params\n",
    "\n",
    "# estimators = np.arange(100, 120, 1)\n",
    "# num_samples_param = np.arange(5,95,10)\n",
    "# parameters = {'n_estimators' : estimators}\n",
    "# clf = GridSearchCV(lsi_forest, parameters, cv=10, n_jobs=-1)\n",
    "# clf.fit(X_train,y_train)\n",
    "# print('Accuracy score: {:.3}'.format(clf.score(X_test, y_test)))"
   ]
  },
  {
   "cell_type": "code",
   "execution_count": null,
   "metadata": {},
   "outputs": [],
   "source": [
    "# preds = clf.predict(X_test)"
   ]
  },
  {
   "cell_type": "code",
   "execution_count": null,
   "metadata": {},
   "outputs": [],
   "source": [
    "# recall_score(y_test,preds)"
   ]
  },
  {
   "cell_type": "code",
   "execution_count": null,
   "metadata": {
    "jupyter": {
     "source_hidden": true
    }
   },
   "outputs": [],
   "source": []
  },
  {
   "cell_type": "code",
   "execution_count": null,
   "metadata": {},
   "outputs": [],
   "source": []
  }
 ],
 "metadata": {
  "kernelspec": {
   "display_name": "Python 3",
   "language": "python",
   "name": "python3"
  },
  "language_info": {
   "codemirror_mode": {
    "name": "ipython",
    "version": 3
   },
   "file_extension": ".py",
   "mimetype": "text/x-python",
   "name": "python",
   "nbconvert_exporter": "python",
   "pygments_lexer": "ipython3",
   "version": "3.7.7"
  }
 },
 "nbformat": 4,
 "nbformat_minor": 4
}
